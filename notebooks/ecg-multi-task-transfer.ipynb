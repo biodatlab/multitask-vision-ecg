{
 "cells": [
  {
   "attachments": {},
   "cell_type": "markdown",
   "metadata": {},
   "source": [
    "## **Setup**"
   ]
  },
  {
   "cell_type": "code",
   "execution_count": 1,
   "metadata": {},
   "outputs": [
    {
     "name": "stderr",
     "output_type": "stream",
     "text": [
      "Enabling notebook extension jupyter-js-widgets/extension...\n",
      "      - Validating: ok\n"
     ]
    }
   ],
   "source": [
    "!jupyter nbextension enable --py widgetsnbextension"
   ]
  },
  {
   "cell_type": "code",
   "execution_count": 1,
   "metadata": {},
   "outputs": [
    {
     "name": "stderr",
     "output_type": "stream",
     "text": [
      "c:\\Anaconda3\\envs\\ecg\\lib\\site-packages\\numpy\\_distributor_init.py:30: UserWarning: loaded more than 1 DLL from .libs:\n",
      "c:\\Anaconda3\\envs\\ecg\\lib\\site-packages\\numpy\\.libs\\libopenblas.FB5AE2TYXYH2IJRDKGDGQ3XBKLKTF43H.gfortran-win_amd64.dll\n",
      "c:\\Anaconda3\\envs\\ecg\\lib\\site-packages\\numpy\\.libs\\libopenblas64__v0.3.21-gcc_10_3_0.dll\n",
      "  warnings.warn(\"loaded more than 1 DLL from .libs:\"\n",
      "c:\\Anaconda3\\envs\\ecg\\lib\\site-packages\\pkg_resources\\__init__.py:123: PkgResourcesDeprecationWarning: llow is an invalid version and will not be supported in a future release\n",
      "  warnings.warn(\n",
      "Global seed set to 42\n"
     ]
    }
   ],
   "source": [
    "import os\n",
    "import sys\n",
    "import os.path as op\n",
    "import numpy as np\n",
    "from functools import partial\n",
    "from pytorch_lightning import LightningModule, Trainer, seed_everything\n",
    "from pytorch_lightning.callbacks import ModelCheckpoint, StochasticWeightAveraging\n",
    "from pytorch_lightning.loggers import WandbLogger\n",
    "\n",
    "import torch\n",
    "from torch.utils.data import DataLoader\n",
    "import albumentations as A\n",
    "from albumentations.pytorch.transforms import ToTensorV2\n",
    "\n",
    "sys.path.append(\"..\")\n",
    "from mtecg import MultiTaskDataset, MultiTaskModel\n",
    "from mtecg.utils import load_ecg_dataframe\n",
    "\n",
    "\n",
    "SEED = 42\n",
    "np.random.seed(SEED)\n",
    "seed_everything(SEED, workers=True)\n",
    "torch.manual_seed(SEED)\n",
    "torch.backends.cudnn.deterministic = True\n",
    "torch.backends.cudnn.benchmark = False\n",
    "torch.cuda.manual_seed(SEED)"
   ]
  },
  {
   "cell_type": "code",
   "execution_count": 2,
   "metadata": {},
   "outputs": [],
   "source": [
    "lvef_threshold = 50\n",
    "image_size= (384, 384)\n",
    "batch_size = 16\n",
    "num_epochs = 10\n",
    "\n",
    "configs = {\n",
    "    \"in_channels\": 3,\n",
    "    \"learning_rate\": 5e-4,\n",
    "    \"use_timm\": True,\n",
    "    \"pretrained\": True,\n",
    "    \"backbone\": \"resnet34d\",\n",
    "    \"latent_dim\": 512,\n",
    "    \"scar_class\": 2,\n",
    "    \"lvef_class\": 2,\n",
    "    \"scar_lvef_loss_ratio\": [0.7, 0.3],\n",
    "    \"bias_head\": True,\n",
    "    # Specify the device.\n",
    "    \"device\": \"cuda\",\n",
    "    }"
   ]
  },
  {
   "attachments": {},
   "cell_type": "markdown",
   "metadata": {},
   "source": [
    "## **Prepare the data**"
   ]
  },
  {
   "cell_type": "code",
   "execution_count": 3,
   "metadata": {},
   "outputs": [
    {
     "name": "stdout",
     "output_type": "stream",
     "text": [
      "Number of images: 13343\n",
      "Unique splits: ['old_train' 'old_valid' 'old_test' 'new_train' 'new_valid']\n"
     ]
    },
    {
     "data": {
      "text/html": [
       "<div>\n",
       "<style scoped>\n",
       "    .dataframe tbody tr th:only-of-type {\n",
       "        vertical-align: middle;\n",
       "    }\n",
       "\n",
       "    .dataframe tbody tr th {\n",
       "        vertical-align: top;\n",
       "    }\n",
       "\n",
       "    .dataframe thead th {\n",
       "        text-align: right;\n",
       "    }\n",
       "</style>\n",
       "<table border=\"1\" class=\"dataframe\">\n",
       "  <thead>\n",
       "    <tr style=\"text-align: right;\">\n",
       "      <th></th>\n",
       "      <th>run_num</th>\n",
       "      <th>train_80_percent</th>\n",
       "      <th>develop_10_percent</th>\n",
       "      <th>file_name</th>\n",
       "      <th>lvef</th>\n",
       "      <th>scar_cad</th>\n",
       "      <th>hcm</th>\n",
       "      <th>mri_date</th>\n",
       "      <th>month</th>\n",
       "      <th>year</th>\n",
       "      <th>...</th>\n",
       "      <th>dm</th>\n",
       "      <th>ht</th>\n",
       "      <th>mi</th>\n",
       "      <th>pci</th>\n",
       "      <th>cabg</th>\n",
       "      <th>ua</th>\n",
       "      <th>chest pain</th>\n",
       "      <th>dyspnea</th>\n",
       "      <th>path</th>\n",
       "      <th>split</th>\n",
       "    </tr>\n",
       "  </thead>\n",
       "  <tbody>\n",
       "    <tr>\n",
       "      <th>0</th>\n",
       "      <td>1</td>\n",
       "      <td>1.0</td>\n",
       "      <td>NaN</td>\n",
       "      <td>2009_420521391</td>\n",
       "      <td>59.9</td>\n",
       "      <td>0</td>\n",
       "      <td>0</td>\n",
       "      <td>2552-08-01 00:00:00</td>\n",
       "      <td>8</td>\n",
       "      <td>2009</td>\n",
       "      <td>...</td>\n",
       "      <td>0</td>\n",
       "      <td>1</td>\n",
       "      <td>0</td>\n",
       "      <td>0</td>\n",
       "      <td>0</td>\n",
       "      <td>0</td>\n",
       "      <td>1</td>\n",
       "      <td>0</td>\n",
       "      <td>../../ecg/ecg-cnn-local/siriraj_data/ECG_MRI_i...</td>\n",
       "      <td>old_train</td>\n",
       "    </tr>\n",
       "    <tr>\n",
       "      <th>1</th>\n",
       "      <td>2</td>\n",
       "      <td>1.0</td>\n",
       "      <td>NaN</td>\n",
       "      <td>2009_472422791</td>\n",
       "      <td>81.7</td>\n",
       "      <td>0</td>\n",
       "      <td>0</td>\n",
       "      <td>2552-08-01 00:00:00</td>\n",
       "      <td>8</td>\n",
       "      <td>2009</td>\n",
       "      <td>...</td>\n",
       "      <td>0</td>\n",
       "      <td>1</td>\n",
       "      <td>0</td>\n",
       "      <td>0</td>\n",
       "      <td>0</td>\n",
       "      <td>0</td>\n",
       "      <td>1</td>\n",
       "      <td>0</td>\n",
       "      <td>../../ecg/ecg-cnn-local/siriraj_data/ECG_MRI_i...</td>\n",
       "      <td>old_train</td>\n",
       "    </tr>\n",
       "    <tr>\n",
       "      <th>2</th>\n",
       "      <td>3</td>\n",
       "      <td>1.0</td>\n",
       "      <td>NaN</td>\n",
       "      <td>2009_451191451</td>\n",
       "      <td>64.7</td>\n",
       "      <td>0</td>\n",
       "      <td>0</td>\n",
       "      <td>2552-08-01 00:00:00</td>\n",
       "      <td>8</td>\n",
       "      <td>2009</td>\n",
       "      <td>...</td>\n",
       "      <td>0</td>\n",
       "      <td>1</td>\n",
       "      <td>0</td>\n",
       "      <td>0</td>\n",
       "      <td>0</td>\n",
       "      <td>0</td>\n",
       "      <td>1</td>\n",
       "      <td>1</td>\n",
       "      <td>../../ecg/ecg-cnn-local/siriraj_data/ECG_MRI_i...</td>\n",
       "      <td>old_train</td>\n",
       "    </tr>\n",
       "    <tr>\n",
       "      <th>3</th>\n",
       "      <td>4</td>\n",
       "      <td>1.0</td>\n",
       "      <td>NaN</td>\n",
       "      <td>2009_512029431</td>\n",
       "      <td>10.7</td>\n",
       "      <td>1</td>\n",
       "      <td>0</td>\n",
       "      <td>2552-08-01 00:00:00</td>\n",
       "      <td>8</td>\n",
       "      <td>2009</td>\n",
       "      <td>...</td>\n",
       "      <td>1</td>\n",
       "      <td>0</td>\n",
       "      <td>1</td>\n",
       "      <td>1</td>\n",
       "      <td>0</td>\n",
       "      <td>0</td>\n",
       "      <td>0</td>\n",
       "      <td>1</td>\n",
       "      <td>../../ecg/ecg-cnn-local/siriraj_data/ECG_MRI_i...</td>\n",
       "      <td>old_train</td>\n",
       "    </tr>\n",
       "    <tr>\n",
       "      <th>4</th>\n",
       "      <td>5</td>\n",
       "      <td>1.0</td>\n",
       "      <td>NaN</td>\n",
       "      <td>2009_461543281</td>\n",
       "      <td>19.3</td>\n",
       "      <td>1</td>\n",
       "      <td>0</td>\n",
       "      <td>2552-08-04 00:00:00</td>\n",
       "      <td>8</td>\n",
       "      <td>2009</td>\n",
       "      <td>...</td>\n",
       "      <td>0</td>\n",
       "      <td>1</td>\n",
       "      <td>0</td>\n",
       "      <td>0</td>\n",
       "      <td>0</td>\n",
       "      <td>0</td>\n",
       "      <td>1</td>\n",
       "      <td>1</td>\n",
       "      <td>../../ecg/ecg-cnn-local/siriraj_data/ECG_MRI_i...</td>\n",
       "      <td>old_train</td>\n",
       "    </tr>\n",
       "  </tbody>\n",
       "</table>\n",
       "<p>5 rows × 27 columns</p>\n",
       "</div>"
      ],
      "text/plain": [
       "   run_num  train_80_percent  develop_10_percent       file_name  lvef  \\\n",
       "0        1               1.0                 NaN  2009_420521391  59.9   \n",
       "1        2               1.0                 NaN  2009_472422791  81.7   \n",
       "2        3               1.0                 NaN  2009_451191451  64.7   \n",
       "3        4               1.0                 NaN  2009_512029431  10.7   \n",
       "4        5               1.0                 NaN  2009_461543281  19.3   \n",
       "\n",
       "   scar_cad  hcm             mri_date  month  year  ...  dm  ht  mi  pci  \\\n",
       "0         0    0  2552-08-01 00:00:00      8  2009  ...   0   1   0    0   \n",
       "1         0    0  2552-08-01 00:00:00      8  2009  ...   0   1   0    0   \n",
       "2         0    0  2552-08-01 00:00:00      8  2009  ...   0   1   0    0   \n",
       "3         1    0  2552-08-01 00:00:00      8  2009  ...   1   0   1    1   \n",
       "4         1    0  2552-08-04 00:00:00      8  2009  ...   0   1   0    0   \n",
       "\n",
       "   cabg  ua  chest pain  dyspnea  \\\n",
       "0     0   0           1        0   \n",
       "1     0   0           1        0   \n",
       "2     0   0           1        1   \n",
       "3     0   0           0        1   \n",
       "4     0   0           1        1   \n",
       "\n",
       "                                                path      split  \n",
       "0  ../../ecg/ecg-cnn-local/siriraj_data/ECG_MRI_i...  old_train  \n",
       "1  ../../ecg/ecg-cnn-local/siriraj_data/ECG_MRI_i...  old_train  \n",
       "2  ../../ecg/ecg-cnn-local/siriraj_data/ECG_MRI_i...  old_train  \n",
       "3  ../../ecg/ecg-cnn-local/siriraj_data/ECG_MRI_i...  old_train  \n",
       "4  ../../ecg/ecg-cnn-local/siriraj_data/ECG_MRI_i...  old_train  \n",
       "\n",
       "[5 rows x 27 columns]"
      ]
     },
     "execution_count": 3,
     "metadata": {},
     "output_type": "execute_result"
    }
   ],
   "source": [
    "image_dir = \"../../ecg/ecg-cnn-local/siriraj_data/ECG_MRI_images_new/\"\n",
    "csv_path = \"../../ECG_EF_Clin_train_dev_new.csv\"\n",
    "\n",
    "df = load_ecg_dataframe(csv_path, image_dir)\n",
    "print(f\"Number of images: {len(df)}\")\n",
    "print(f\"Unique splits: {df['split'].unique()}\")\n",
    "df.head(5)"
   ]
  },
  {
   "cell_type": "code",
   "execution_count": 4,
   "metadata": {},
   "outputs": [
    {
     "name": "stdout",
     "output_type": "stream",
     "text": [
      "Number of pretrain train images: 5795\n",
      "Number of pretrain valid images: 1419\n",
      "==================================================\n",
      "Number of finetune train images: 3598\n",
      "Number of finetune valid images: 1486\n"
     ]
    }
   ],
   "source": [
    "pretrain_train_df = df[df.split.isin([\"old_train\"])].reset_index()\n",
    "pretrain_valid_df = df[df.split.isin([\"old_valid\"])].reset_index()\n",
    "\n",
    "transfer_train_df = df[df.split.isin([\"new_train\"])].reset_index()\n",
    "transfer_valid_df = df[df.split.isin([\"new_valid\"])].reset_index()\n",
    "\n",
    "print(f\"Number of pretrain train images: {len(pretrain_train_df)}\")\n",
    "print(f\"Number of pretrain valid images: {len(pretrain_valid_df)}\")\n",
    "print(\"=\"*50)\n",
    "print(f\"Number of transfer train images: {len(transfer_train_df)}\")\n",
    "print(f\"Number of transfer valid images: {len(transfer_valid_df)}\")"
   ]
  },
  {
   "cell_type": "code",
   "execution_count": 6,
   "metadata": {},
   "outputs": [],
   "source": [
    "train_transform = A.Compose([\n",
    "    A.Resize(*image_size),\n",
    "    A.Blur(blur_limit=3, p=0.2),\n",
    "    A.RandomBrightnessContrast(),\n",
    "    A.MotionBlur(p=0.2),\n",
    "    A.Normalize(),\n",
    "    ToTensorV2(),\n",
    "])\n",
    "\n",
    "valid_transform = A.Compose([\n",
    "    A.Resize(*image_size),\n",
    "    A.Normalize(),\n",
    "    ToTensorV2()\n",
    "])"
   ]
  },
  {
   "cell_type": "code",
   "execution_count": 7,
   "metadata": {},
   "outputs": [],
   "source": [
    "pretrain_train_ds = MultiTaskDataset(pretrain_train_df, train_transform, lvef_threshold=lvef_threshold)\n",
    "pretrain_valid_ds = MultiTaskDataset(pretrain_valid_df, valid_transform, lvef_threshold=lvef_threshold)\n",
    "pretrain_train_loader = DataLoader(pretrain_train_ds, batch_size=batch_size, shuffle=True, pin_memory=True)\n",
    "pretrain_valid_loader = DataLoader(pretrain_valid_ds, batch_size=batch_size, shuffle=False, pin_memory=True)\n",
    "\n",
    "\n",
    "transfer_train_ds = MultiTaskDataset(transfer_train_df, train_transform, lvef_threshold=lvef_threshold)\n",
    "transfer_valid_ds = MultiTaskDataset(transfer_valid_df, valid_transform, lvef_threshold=lvef_threshold)\n",
    "transfer_train_loader = DataLoader(transfer_train_ds, batch_size=batch_size, shuffle=True, pin_memory=True)\n",
    "transfer_valid_loader = DataLoader(transfer_valid_ds, batch_size=batch_size, shuffle=False, pin_memory=True)"
   ]
  },
  {
   "attachments": {},
   "cell_type": "markdown",
   "metadata": {},
   "source": [
    "## **Pretrain (on Old-format Data)**"
   ]
  },
  {
   "cell_type": "code",
   "execution_count": null,
   "metadata": {},
   "outputs": [],
   "source": [
    "parent_pretrained_save_dir = f\"../trained_models/multi_task_old_format\"\n",
    "os.makedirs(parent_pretrained_save_dir, exist_ok=True)\n",
    "\n",
    "run_suffix = f\"{image_size[0]}_LVEF{str(lvef_threshold)}\"\n",
    "run_name = f\"{configs['backbone']}_{run_suffix}\""
   ]
  },
  {
   "cell_type": "code",
   "execution_count": 8,
   "metadata": {},
   "outputs": [],
   "source": [
    "model = MultiTaskModel(**configs)"
   ]
  },
  {
   "cell_type": "code",
   "execution_count": 9,
   "metadata": {},
   "outputs": [
    {
     "name": "stderr",
     "output_type": "stream",
     "text": [
      "\u001b[34m\u001b[1mwandb\u001b[0m: Currently logged in as: \u001b[33mname_atirut\u001b[0m. Use \u001b[1m`wandb login --relogin`\u001b[0m to force relogin\n"
     ]
    },
    {
     "data": {
      "text/html": [
       "wandb version 0.13.10 is available!  To upgrade, please run:\n",
       " $ pip install wandb --upgrade"
      ],
      "text/plain": [
       "<IPython.core.display.HTML object>"
      ]
     },
     "metadata": {},
     "output_type": "display_data"
    },
    {
     "data": {
      "text/html": [
       "Tracking run with wandb version 0.13.3"
      ],
      "text/plain": [
       "<IPython.core.display.HTML object>"
      ]
     },
     "metadata": {},
     "output_type": "display_data"
    },
    {
     "data": {
      "text/html": [
       "Run data is saved locally in <code>c:\\Users\\namea\\Desktop\\multitask-vision-ecg\\notebooks\\wandb\\run-20230215_170223-3qsy00oh</code>"
      ],
      "text/plain": [
       "<IPython.core.display.HTML object>"
      ]
     },
     "metadata": {},
     "output_type": "display_data"
    },
    {
     "data": {
      "text/html": [
       "Syncing run <strong><a href=\"https://wandb.ai/name_atirut/ecg-multi-task-transfer-stage1/runs/3qsy00oh\" target=\"_blank\">fiery-heartthrob-1</a></strong> to <a href=\"https://wandb.ai/name_atirut/ecg-multi-task-transfer-stage1\" target=\"_blank\">Weights & Biases</a> (<a href=\"https://wandb.me/run\" target=\"_blank\">docs</a>)<br/>"
      ],
      "text/plain": [
       "<IPython.core.display.HTML object>"
      ]
     },
     "metadata": {},
     "output_type": "display_data"
    },
    {
     "name": "stderr",
     "output_type": "stream",
     "text": [
      "c:\\Anaconda3\\envs\\ecg\\lib\\site-packages\\pkg_resources\\__init__.py:123: PkgResourcesDeprecationWarning: llow is an invalid version and will not be supported in a future release\n",
      "  warnings.warn(\n",
      "C:\\Users\\namea\\AppData\\Roaming\\Python\\Python38\\site-packages\\pytorch_lightning\\loggers\\wandb.py:395: UserWarning: There is a wandb run already in progress and newly created instances of `WandbLogger` will reuse this run. If this is not desired, call `wandb.finish()` before instantiating `WandbLogger`.\n",
      "  rank_zero_warn(\n",
      "\u001b[34m\u001b[1mwandb\u001b[0m: logging graph, to disable use `wandb.watch(log_graph=False)`\n"
     ]
    }
   ],
   "source": [
    "import wandb\n",
    "project_name = f\"ecg-multi-task-transfer-stage1\"\n",
    "\n",
    "os.environ[\"WANDB_NOTEBOOK_NAME\"] = \"ecg-multi-task-transfer.ipynb\"\n",
    "run = wandb.init(project = project_name, save_code = True)\n",
    "run.log_code(\".\", include_fn = lambda path: path.endswith(\".py\") or path.endswith(\".ipynb\"))\n",
    "run.config.update({\"batch_size\": batch_size,})\n",
    "\n",
    "checkpoint_callback = ModelCheckpoint(\n",
    "    filename = configs[\"backbone\"] + \"{val_acc:.2f}\",\n",
    "    save_top_k = 1,\n",
    "    verbose = True,\n",
    "    monitor = \"val_loss\",\n",
    "    mode = \"min\",\n",
    ")\n",
    "\n",
    "logger = WandbLogger(\n",
    "    project = project_name,\n",
    "    name = configs[\"backbone\"],\n",
    "    # log_model = \"all\", # set to True to log at the end\n",
    ")\n",
    "\n",
    "logger.watch(\n",
    "    model, \n",
    "    # log_freq=300, # uncomment to log gradients\n",
    "    log_graph = True,\n",
    ")"
   ]
  },
  {
   "cell_type": "code",
   "execution_count": null,
   "metadata": {},
   "outputs": [],
   "source": [
    "trainer = Trainer(\n",
    "    accelerator=\"gpu\",\n",
    "    logger = logger,\n",
    "    max_epochs = num_epochs,\n",
    "    callbacks = [checkpoint_callback, StochasticWeightAveraging(1e-3)],\n",
    ")\n",
    "\n",
    "trainer.fit(\n",
    "    model,\n",
    "    train_dataloaders = pretrain_train_loader,\n",
    "    val_dataloaders = pretrain_valid_loader,\n",
    ")"
   ]
  },
  {
   "cell_type": "code",
   "execution_count": null,
   "metadata": {},
   "outputs": [],
   "source": [
    "trainer.save_checkpoint(op.join(parent_pretrained_save_dir, run_name, \"model.ckpt\"))\n",
    "model.save_configs(op.join(parent_pretrained_save_dir, run_name))\n",
    "\n",
    "A.save(train_transform, op.join(parent_pretrained_save_dir, run_name, \"train_transform.json\"))\n",
    "A.save(valid_transform, op.join(parent_pretrained_save_dir, run_name, \"transform.json\"))"
   ]
  },
  {
   "attachments": {},
   "cell_type": "markdown",
   "metadata": {},
   "source": [
    "## **Finetune (on New-format Data)**"
   ]
  },
  {
   "cell_type": "code",
   "execution_count": null,
   "metadata": {},
   "outputs": [],
   "source": [
    "parent_transferred_save_dir = f\"../trained_models/multi_task_transferred\"\n",
    "os.makedirs(parent_transferred_save_dir, exist_ok=True)\n",
    "\n",
    "run_suffix = f\"{image_size[0]}_LVEF{str(lvef_threshold)}\"\n",
    "run_name = f\"{configs['backbone']}_{run_suffix}\""
   ]
  },
  {
   "cell_type": "code",
   "execution_count": null,
   "metadata": {},
   "outputs": [],
   "source": [
    "pretrained_model_path = op.join(parent_pretrained_save_dir, run_name)\n",
    "# Explicitly specify train=True to instantiate the model with loss functions on the correct device.\n",
    "model = MultiTaskModel.from_configs(pretrained_model_path, train=True, device=\"cuda\")\n",
    "configs = model.configs"
   ]
  },
  {
   "cell_type": "code",
   "execution_count": null,
   "metadata": {},
   "outputs": [],
   "source": [
    "import wandb\n",
    "project_name = f\"ecg-multi-task-transfer-stage2\"\n",
    "\n",
    "os.environ[\"WANDB_NOTEBOOK_NAME\"] = \"ecg-multi-task-transfer.ipynb\"\n",
    "run = wandb.init(project = project_name, save_code = True)\n",
    "run.log_code(\".\", include_fn = lambda path: path.endswith(\".py\") or path.endswith(\".ipynb\"))\n",
    "run.config.update({\"batch_size\": batch_size,})\n",
    "\n",
    "checkpoint_callback = ModelCheckpoint(\n",
    "    filename = configs[\"backbone\"] + \"{val_acc:.2f}\",\n",
    "    save_top_k = 1,\n",
    "    verbose = True,\n",
    "    monitor = \"val_loss\",\n",
    "    mode = \"min\",\n",
    ")\n",
    "\n",
    "logger = WandbLogger(\n",
    "    project = project_name,\n",
    "    name = configs[\"backbone\"],\n",
    "    # log_model = \"all\", # set to True to log at the end\n",
    ")\n",
    "\n",
    "logger.watch(\n",
    "    model, \n",
    "    # log_freq=300, # uncomment to log gradients\n",
    "    log_graph = True,\n",
    ")"
   ]
  },
  {
   "cell_type": "code",
   "execution_count": null,
   "metadata": {},
   "outputs": [],
   "source": [
    "trainer = Trainer(\n",
    "    accelerator=\"gpu\",\n",
    "    logger = logger,\n",
    "    max_epochs = num_epochs,\n",
    "    callbacks = [checkpoint_callback, StochasticWeightAveraging(1e-3)],\n",
    ")\n",
    "\n",
    "trainer.fit(\n",
    "    model,\n",
    "    train_dataloaders = transfer_train_loader,\n",
    "    val_dataloaders = transfer_valid_loader,\n",
    ")"
   ]
  },
  {
   "cell_type": "code",
   "execution_count": null,
   "metadata": {},
   "outputs": [],
   "source": [
    "trainer.save_checkpoint(op.join(parent_transferred_save_dir, run_name, \"model.ckpt\"))\n",
    "model.save_configs(op.join(parent_transferred_save_dir, run_name))\n",
    "\n",
    "A.save(train_transform, op.join(parent_transferred_save_dir, run_name, \"train_transform.json\"))\n",
    "A.save(valid_transform, op.join(parent_transferred_save_dir, run_name, \"transform.json\"))"
   ]
  }
 ],
 "metadata": {
  "kernelspec": {
   "display_name": "ecg",
   "language": "python",
   "name": "python3"
  },
  "language_info": {
   "codemirror_mode": {
    "name": "ipython",
    "version": 3
   },
   "file_extension": ".py",
   "mimetype": "text/x-python",
   "name": "python",
   "nbconvert_exporter": "python",
   "pygments_lexer": "ipython3",
   "version": "3.8.13"
  },
  "orig_nbformat": 4,
  "vscode": {
   "interpreter": {
    "hash": "109b74d06ceef90c267188b655f808679842e5df9d924ed4ca45afc3047e2ff5"
   }
  }
 },
 "nbformat": 4,
 "nbformat_minor": 2
}
