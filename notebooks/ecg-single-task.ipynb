{
 "cells": [
  {
   "attachments": {},
   "cell_type": "markdown",
   "metadata": {},
   "source": [
    "## **Setup**"
   ]
  },
  {
   "cell_type": "code",
   "execution_count": 1,
   "metadata": {},
   "outputs": [
    {
     "name": "stderr",
     "output_type": "stream",
     "text": [
      "Enabling notebook extension jupyter-js-widgets/extension...\n",
      "      - Validating: ok\n"
     ]
    }
   ],
   "source": [
    "!jupyter nbextension enable --py widgetsnbextension"
   ]
  },
  {
   "cell_type": "code",
   "execution_count": 2,
   "metadata": {},
   "outputs": [
    {
     "name": "stderr",
     "output_type": "stream",
     "text": [
      "c:\\Anaconda3\\envs\\ecg\\lib\\site-packages\\numpy\\_distributor_init.py:30: UserWarning: loaded more than 1 DLL from .libs:\n",
      "c:\\Anaconda3\\envs\\ecg\\lib\\site-packages\\numpy\\.libs\\libopenblas.FB5AE2TYXYH2IJRDKGDGQ3XBKLKTF43H.gfortran-win_amd64.dll\n",
      "c:\\Anaconda3\\envs\\ecg\\lib\\site-packages\\numpy\\.libs\\libopenblas64__v0.3.21-gcc_10_3_0.dll\n",
      "  warnings.warn(\"loaded more than 1 DLL from .libs:\"\n",
      "c:\\Anaconda3\\envs\\ecg\\lib\\site-packages\\pkg_resources\\__init__.py:123: PkgResourcesDeprecationWarning: llow is an invalid version and will not be supported in a future release\n",
      "  warnings.warn(\n",
      "Global seed set to 42\n"
     ]
    }
   ],
   "source": [
    "import os\n",
    "import sys\n",
    "import os.path as op\n",
    "import numpy as np\n",
    "from functools import partial\n",
    "from pytorch_lightning import LightningModule, Trainer, seed_everything\n",
    "from pytorch_lightning.callbacks import ModelCheckpoint, StochasticWeightAveraging\n",
    "from pytorch_lightning.loggers import WandbLogger\n",
    "\n",
    "import torch\n",
    "from torch.utils.data import DataLoader\n",
    "import albumentations as A\n",
    "from albumentations.pytorch.transforms import ToTensorV2\n",
    "\n",
    "sys.path.append(\"..\")\n",
    "from mtecg import ScarDataset, LVEFDataset, SingleTaskModel \n",
    "from mtecg.utils import load_ecg_dataframe\n",
    "\n",
    "\n",
    "SEED = 42\n",
    "np.random.seed(SEED)\n",
    "seed_everything(SEED, workers=True)\n",
    "torch.manual_seed(SEED)\n",
    "torch.backends.cudnn.deterministic = True\n",
    "torch.backends.cudnn.benchmark = False\n",
    "torch.cuda.manual_seed(SEED)"
   ]
  },
  {
   "cell_type": "code",
   "execution_count": 3,
   "metadata": {},
   "outputs": [],
   "source": [
    "task = \"scar\"\n",
    "\n",
    "lvef_threshold = 50\n",
    "image_size= (384, 384)\n",
    "batch_size = 16\n",
    "num_epochs = 10\n",
    "\n",
    "configs = {\n",
    "    \"in_channels\": 3,\n",
    "    \"learning_rate\": 5e-3,\n",
    "    \"use_timm\": True,\n",
    "    \"pretrained\": True,\n",
    "    \"backbone\": \"resnet34d\",\n",
    "    \"latent_dim\": 512,\n",
    "    \"num_classes\": 2,\n",
    "    \"bias_head\": True,\n",
    "    # Specify the device.\n",
    "    \"device\": \"cuda\",\n",
    "}\n",
    "\n",
    "task_to_dataset_map = {\n",
    "    \"scar\": ScarDataset,\n",
    "    \"lvef\": partial(LVEFDataset, lvef_threshold=lvef_threshold)\n",
    "}"
   ]
  },
  {
   "cell_type": "code",
   "execution_count": null,
   "metadata": {},
   "outputs": [],
   "source": [
    "parent_save_dir = f\"../trained_models/single_task_{task}\"\n",
    "os.makedirs(parent_save_dir, exist_ok=True)\n",
    "\n",
    "run_suffix = f\"{image_size[0]}_{str(lvef_threshold)}\" if task == \"lvef\" else f\"{image_size[0]}\"\n",
    "run_name = f\"{configs['backbone']}_{run_suffix}\""
   ]
  },
  {
   "attachments": {},
   "cell_type": "markdown",
   "metadata": {},
   "source": [
    "## **Prepare the data**"
   ]
  },
  {
   "cell_type": "code",
   "execution_count": 4,
   "metadata": {},
   "outputs": [
    {
     "name": "stdout",
     "output_type": "stream",
     "text": [
      "Number of images: 13343\n",
      "Unique splits: ['old_train' 'old_valid' 'old_test' 'new_train' 'new_valid']\n"
     ]
    },
    {
     "data": {
      "text/html": [
       "<div>\n",
       "<style scoped>\n",
       "    .dataframe tbody tr th:only-of-type {\n",
       "        vertical-align: middle;\n",
       "    }\n",
       "\n",
       "    .dataframe tbody tr th {\n",
       "        vertical-align: top;\n",
       "    }\n",
       "\n",
       "    .dataframe thead th {\n",
       "        text-align: right;\n",
       "    }\n",
       "</style>\n",
       "<table border=\"1\" class=\"dataframe\">\n",
       "  <thead>\n",
       "    <tr style=\"text-align: right;\">\n",
       "      <th></th>\n",
       "      <th>run_num</th>\n",
       "      <th>train_80_percent</th>\n",
       "      <th>develop_10_percent</th>\n",
       "      <th>file_name</th>\n",
       "      <th>lvef</th>\n",
       "      <th>scar_cad</th>\n",
       "      <th>hcm</th>\n",
       "      <th>mri_date</th>\n",
       "      <th>month</th>\n",
       "      <th>year</th>\n",
       "      <th>...</th>\n",
       "      <th>dm</th>\n",
       "      <th>ht</th>\n",
       "      <th>mi</th>\n",
       "      <th>pci</th>\n",
       "      <th>cabg</th>\n",
       "      <th>ua</th>\n",
       "      <th>chest pain</th>\n",
       "      <th>dyspnea</th>\n",
       "      <th>path</th>\n",
       "      <th>split</th>\n",
       "    </tr>\n",
       "  </thead>\n",
       "  <tbody>\n",
       "    <tr>\n",
       "      <th>0</th>\n",
       "      <td>1</td>\n",
       "      <td>1.0</td>\n",
       "      <td>NaN</td>\n",
       "      <td>2009_420521391</td>\n",
       "      <td>59.9</td>\n",
       "      <td>0</td>\n",
       "      <td>0</td>\n",
       "      <td>2552-08-01 00:00:00</td>\n",
       "      <td>8</td>\n",
       "      <td>2009</td>\n",
       "      <td>...</td>\n",
       "      <td>0</td>\n",
       "      <td>1</td>\n",
       "      <td>0</td>\n",
       "      <td>0</td>\n",
       "      <td>0</td>\n",
       "      <td>0</td>\n",
       "      <td>1</td>\n",
       "      <td>0</td>\n",
       "      <td>../../ecg/ecg-cnn-local/siriraj_data/ECG_MRI_i...</td>\n",
       "      <td>old_train</td>\n",
       "    </tr>\n",
       "    <tr>\n",
       "      <th>1</th>\n",
       "      <td>2</td>\n",
       "      <td>1.0</td>\n",
       "      <td>NaN</td>\n",
       "      <td>2009_472422791</td>\n",
       "      <td>81.7</td>\n",
       "      <td>0</td>\n",
       "      <td>0</td>\n",
       "      <td>2552-08-01 00:00:00</td>\n",
       "      <td>8</td>\n",
       "      <td>2009</td>\n",
       "      <td>...</td>\n",
       "      <td>0</td>\n",
       "      <td>1</td>\n",
       "      <td>0</td>\n",
       "      <td>0</td>\n",
       "      <td>0</td>\n",
       "      <td>0</td>\n",
       "      <td>1</td>\n",
       "      <td>0</td>\n",
       "      <td>../../ecg/ecg-cnn-local/siriraj_data/ECG_MRI_i...</td>\n",
       "      <td>old_train</td>\n",
       "    </tr>\n",
       "    <tr>\n",
       "      <th>2</th>\n",
       "      <td>3</td>\n",
       "      <td>1.0</td>\n",
       "      <td>NaN</td>\n",
       "      <td>2009_451191451</td>\n",
       "      <td>64.7</td>\n",
       "      <td>0</td>\n",
       "      <td>0</td>\n",
       "      <td>2552-08-01 00:00:00</td>\n",
       "      <td>8</td>\n",
       "      <td>2009</td>\n",
       "      <td>...</td>\n",
       "      <td>0</td>\n",
       "      <td>1</td>\n",
       "      <td>0</td>\n",
       "      <td>0</td>\n",
       "      <td>0</td>\n",
       "      <td>0</td>\n",
       "      <td>1</td>\n",
       "      <td>1</td>\n",
       "      <td>../../ecg/ecg-cnn-local/siriraj_data/ECG_MRI_i...</td>\n",
       "      <td>old_train</td>\n",
       "    </tr>\n",
       "    <tr>\n",
       "      <th>3</th>\n",
       "      <td>4</td>\n",
       "      <td>1.0</td>\n",
       "      <td>NaN</td>\n",
       "      <td>2009_512029431</td>\n",
       "      <td>10.7</td>\n",
       "      <td>1</td>\n",
       "      <td>0</td>\n",
       "      <td>2552-08-01 00:00:00</td>\n",
       "      <td>8</td>\n",
       "      <td>2009</td>\n",
       "      <td>...</td>\n",
       "      <td>1</td>\n",
       "      <td>0</td>\n",
       "      <td>1</td>\n",
       "      <td>1</td>\n",
       "      <td>0</td>\n",
       "      <td>0</td>\n",
       "      <td>0</td>\n",
       "      <td>1</td>\n",
       "      <td>../../ecg/ecg-cnn-local/siriraj_data/ECG_MRI_i...</td>\n",
       "      <td>old_train</td>\n",
       "    </tr>\n",
       "    <tr>\n",
       "      <th>4</th>\n",
       "      <td>5</td>\n",
       "      <td>1.0</td>\n",
       "      <td>NaN</td>\n",
       "      <td>2009_461543281</td>\n",
       "      <td>19.3</td>\n",
       "      <td>1</td>\n",
       "      <td>0</td>\n",
       "      <td>2552-08-04 00:00:00</td>\n",
       "      <td>8</td>\n",
       "      <td>2009</td>\n",
       "      <td>...</td>\n",
       "      <td>0</td>\n",
       "      <td>1</td>\n",
       "      <td>0</td>\n",
       "      <td>0</td>\n",
       "      <td>0</td>\n",
       "      <td>0</td>\n",
       "      <td>1</td>\n",
       "      <td>1</td>\n",
       "      <td>../../ecg/ecg-cnn-local/siriraj_data/ECG_MRI_i...</td>\n",
       "      <td>old_train</td>\n",
       "    </tr>\n",
       "  </tbody>\n",
       "</table>\n",
       "<p>5 rows × 27 columns</p>\n",
       "</div>"
      ],
      "text/plain": [
       "   run_num  train_80_percent  develop_10_percent       file_name  lvef  \\\n",
       "0        1               1.0                 NaN  2009_420521391  59.9   \n",
       "1        2               1.0                 NaN  2009_472422791  81.7   \n",
       "2        3               1.0                 NaN  2009_451191451  64.7   \n",
       "3        4               1.0                 NaN  2009_512029431  10.7   \n",
       "4        5               1.0                 NaN  2009_461543281  19.3   \n",
       "\n",
       "   scar_cad  hcm             mri_date  month  year  ...  dm  ht  mi  pci  \\\n",
       "0         0    0  2552-08-01 00:00:00      8  2009  ...   0   1   0    0   \n",
       "1         0    0  2552-08-01 00:00:00      8  2009  ...   0   1   0    0   \n",
       "2         0    0  2552-08-01 00:00:00      8  2009  ...   0   1   0    0   \n",
       "3         1    0  2552-08-01 00:00:00      8  2009  ...   1   0   1    1   \n",
       "4         1    0  2552-08-04 00:00:00      8  2009  ...   0   1   0    0   \n",
       "\n",
       "   cabg  ua  chest pain  dyspnea  \\\n",
       "0     0   0           1        0   \n",
       "1     0   0           1        0   \n",
       "2     0   0           1        1   \n",
       "3     0   0           0        1   \n",
       "4     0   0           1        1   \n",
       "\n",
       "                                                path      split  \n",
       "0  ../../ecg/ecg-cnn-local/siriraj_data/ECG_MRI_i...  old_train  \n",
       "1  ../../ecg/ecg-cnn-local/siriraj_data/ECG_MRI_i...  old_train  \n",
       "2  ../../ecg/ecg-cnn-local/siriraj_data/ECG_MRI_i...  old_train  \n",
       "3  ../../ecg/ecg-cnn-local/siriraj_data/ECG_MRI_i...  old_train  \n",
       "4  ../../ecg/ecg-cnn-local/siriraj_data/ECG_MRI_i...  old_train  \n",
       "\n",
       "[5 rows x 27 columns]"
      ]
     },
     "execution_count": 4,
     "metadata": {},
     "output_type": "execute_result"
    }
   ],
   "source": [
    "image_dir = \"../../ecg/ecg-cnn-local/siriraj_data/ECG_MRI_images_new/\"\n",
    "csv_path = \"../../ECG_EF_Clin_train_dev_new.csv\"\n",
    "\n",
    "df = load_ecg_dataframe(csv_path, image_dir)\n",
    "print(f\"Number of images: {len(df)}\")\n",
    "print(f\"Unique splits: {df['split'].unique()}\")\n",
    "df.head(5)"
   ]
  },
  {
   "cell_type": "code",
   "execution_count": 5,
   "metadata": {},
   "outputs": [
    {
     "data": {
      "text/plain": [
       "((9393, 28), (2905, 28))"
      ]
     },
     "execution_count": 5,
     "metadata": {},
     "output_type": "execute_result"
    }
   ],
   "source": [
    "# Combine old train and new train.\n",
    "train_df = df[df.split.isin([\"old_train\", \"new_train\"])].reset_index()\n",
    "# Combine old valid and new valid.\n",
    "valid_df = df[df.split.isin([\"old_valid\", \"new_valid\"])].reset_index()\n",
    "\n",
    "train_df.shape, valid_df.shape"
   ]
  },
  {
   "cell_type": "code",
   "execution_count": 6,
   "metadata": {},
   "outputs": [],
   "source": [
    "train_transform = A.Compose([\n",
    "    A.Resize(*image_size),\n",
    "    A.Blur(blur_limit=3, p=0.2),\n",
    "    A.RandomBrightnessContrast(),\n",
    "    A.MotionBlur(p=0.2),\n",
    "    A.Normalize(),\n",
    "    ToTensorV2(),\n",
    "])\n",
    "\n",
    "valid_transform = A.Compose([\n",
    "    A.Resize(*image_size),\n",
    "    A.Normalize(),\n",
    "    ToTensorV2()\n",
    "])\n",
    "\n",
    "dataset = task_to_dataset_map[task]\n",
    "train_ds = dataset(train_df, train_transform)\n",
    "valid_ds = dataset(valid_df, valid_transform)\n",
    "\n",
    "train_loader = DataLoader(train_ds, batch_size=batch_size, shuffle=True, pin_memory=True)\n",
    "valid_loader = DataLoader(valid_ds, batch_size=batch_size, shuffle=False, pin_memory=True)"
   ]
  },
  {
   "attachments": {},
   "cell_type": "markdown",
   "metadata": {},
   "source": [
    "## **Train**"
   ]
  },
  {
   "cell_type": "code",
   "execution_count": 8,
   "metadata": {},
   "outputs": [],
   "source": [
    "model =SingleTaskModel(**configs)"
   ]
  },
  {
   "cell_type": "code",
   "execution_count": null,
   "metadata": {},
   "outputs": [],
   "source": [
    "import wandb\n",
    "project_name = f\"ecg-single-task-{task}\"\n",
    "\n",
    "os.environ[\"WANDB_NOTEBOOK_NAME\"] = \"ecg-single-task.ipynb\"\n",
    "run = wandb.init(project = project_name, save_code = True)\n",
    "run.log_code(\".\", include_fn = lambda path: path.endswith(\".py\") or path.endswith(\".ipynb\"))\n",
    "run.config.update({\"batch_size\": batch_size,})\n",
    "\n",
    "checkpoint_callback = ModelCheckpoint(\n",
    "    filename = configs[\"backbone\"] + \"{val_acc:.2f}\",\n",
    "    save_top_k = 1,\n",
    "    verbose = True,\n",
    "    monitor = \"val_loss\",\n",
    "    mode = \"min\",\n",
    ")\n",
    "\n",
    "logger = WandbLogger(\n",
    "    project = project_name,\n",
    "    name = configs[\"backbone\"],\n",
    "    # log_model = \"all\", # set to True to log at the end\n",
    ")\n",
    "\n",
    "logger.watch(\n",
    "    model, \n",
    "    # log_freq=300, # uncomment to log gradients\n",
    "    log_graph = True,\n",
    ")"
   ]
  },
  {
   "cell_type": "code",
   "execution_count": null,
   "metadata": {},
   "outputs": [],
   "source": [
    "trainer = Trainer(\n",
    "    accelerator=\"gpu\",\n",
    "    logger = logger,\n",
    "    max_epochs = num_epochs,\n",
    "    callbacks = [checkpoint_callback, StochasticWeightAveraging(1e-3)],\n",
    ")\n",
    "\n",
    "trainer.fit(\n",
    "    model,\n",
    "    train_dataloaders = train_loader,\n",
    "    val_dataloaders = valid_loader,\n",
    ")"
   ]
  },
  {
   "cell_type": "code",
   "execution_count": null,
   "metadata": {},
   "outputs": [],
   "source": [
    "trainer.save_checkpoint(op.join(parent_save_dir, run_name, \"model.ckpt\"))\n",
    "model.save_configs(op.join(parent_save_dir, run_name))\n",
    "\n",
    "A.save(train_transform, op.join(parent_save_dir, run_name, \"train_transform.json\"))\n",
    "A.save(valid_transform, op.join(parent_save_dir, run_name, \"transform.json\"))"
   ]
  }
 ],
 "metadata": {
  "kernelspec": {
   "display_name": "ecg",
   "language": "python",
   "name": "python3"
  },
  "language_info": {
   "codemirror_mode": {
    "name": "ipython",
    "version": 3
   },
   "file_extension": ".py",
   "mimetype": "text/x-python",
   "name": "python",
   "nbconvert_exporter": "python",
   "pygments_lexer": "ipython3",
   "version": "3.8.13"
  },
  "orig_nbformat": 4,
  "vscode": {
   "interpreter": {
    "hash": "109b74d06ceef90c267188b655f808679842e5df9d924ed4ca45afc3047e2ff5"
   }
  }
 },
 "nbformat": 4,
 "nbformat_minor": 2
}
