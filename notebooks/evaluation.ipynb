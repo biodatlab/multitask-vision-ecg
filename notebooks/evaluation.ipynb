{
 "cells": [
  {
   "attachments": {},
   "cell_type": "markdown",
   "metadata": {},
   "source": [
    "## **Preparations**"
   ]
  },
  {
   "cell_type": "code",
   "execution_count": 1,
   "metadata": {},
   "outputs": [
    {
     "name": "stderr",
     "output_type": "stream",
     "text": [
      "c:\\Anaconda3\\envs\\ecg\\lib\\site-packages\\numpy\\_distributor_init.py:30: UserWarning: loaded more than 1 DLL from .libs:\n",
      "c:\\Anaconda3\\envs\\ecg\\lib\\site-packages\\numpy\\.libs\\libopenblas.FB5AE2TYXYH2IJRDKGDGQ3XBKLKTF43H.gfortran-win_amd64.dll\n",
      "c:\\Anaconda3\\envs\\ecg\\lib\\site-packages\\numpy\\.libs\\libopenblas64__v0.3.21-gcc_10_3_0.dll\n",
      "  warnings.warn(\"loaded more than 1 DLL from .libs:\"\n",
      "c:\\Anaconda3\\envs\\ecg\\lib\\site-packages\\pkg_resources\\__init__.py:123: PkgResourcesDeprecationWarning: llow is an invalid version and will not be supported in a future release\n",
      "  warnings.warn(\n"
     ]
    }
   ],
   "source": [
    "import os\n",
    "import sys\n",
    "import os.path as op\n",
    "import numpy as np\n",
    "from functools import partial\n",
    "\n",
    "import torch\n",
    "\n",
    "sys.path.append(\"..\")\n",
    "from mtecg.classifier import ECGClassifier\n",
    "from mtecg.evaluation import evaluate_from_dataframe\n",
    "from mtecg.utils import load_ecg_dataframe\n",
    "\n",
    "\n",
    "SEED = 42\n",
    "np.random.seed(SEED)\n",
    "torch.manual_seed(SEED)\n",
    "torch.backends.cudnn.deterministic = True\n",
    "torch.backends.cudnn.benchmark = True\n",
    "torch.cuda.manual_seed(SEED)"
   ]
  },
  {
   "cell_type": "code",
   "execution_count": 2,
   "metadata": {},
   "outputs": [
    {
     "name": "stderr",
     "output_type": "stream",
     "text": [
      "Lightning automatically upgraded your loaded checkpoint from v1.5.8 to v1.9.0. To apply the upgrade to your files permanently, run `python -m pytorch_lightning.utilities.upgrade_checkpoint --file c:\\Users\\namea\\Desktop\\ecg\\ecg-cnn-local\\trained_models_02112022\\single-task-scar\\resnet34d_384_LVEF50\\model.ckpt`\n",
      "Lightning automatically upgraded your loaded checkpoint from v1.5.8 to v1.9.0. To apply the upgrade to your files permanently, run `python -m pytorch_lightning.utilities.upgrade_checkpoint --file c:\\Users\\namea\\Desktop\\ecg\\ecg-cnn-local\\trained_models_02112022\\single-task-lvef\\resnet34d_384_LVEF50\\model.ckpt`\n",
      "Lightning automatically upgraded your loaded checkpoint from v1.5.8 to v1.9.0. To apply the upgrade to your files permanently, run `python -m pytorch_lightning.utilities.upgrade_checkpoint --file c:\\Users\\namea\\Desktop\\ecg\\ecg-cnn-local\\trained_models_02112022\\1-stage-multitask\\resnet34d_384_LVEF50\\model.ckpt`\n",
      "Lightning automatically upgraded your loaded checkpoint from v1.6.4 to v1.9.0. To apply the upgrade to your files permanently, run `python -m pytorch_lightning.utilities.upgrade_checkpoint --file c:\\Users\\namea\\Desktop\\ecg\\ecg-cnn-local\\trained_models_02112022\\1-stage-multitask-clinical\\resnet34d_384_LVEF50_lstm_1layers_128dims\\model.ckpt`\n"
     ]
    }
   ],
   "source": [
    "singletask_scar_model_path = \"../../ecg/ecg-cnn-local/trained_models_02112022/single-task-scar/resnet34d_384_LVEF50\"\n",
    "singletask_lvef_model_path = \"../../ecg/ecg-cnn-local/trained_models_02112022/single-task-lvef/resnet34d_384_LVEF50\"\n",
    "multitask_model_path = \"../../ecg/ecg-cnn-local/trained_models_02112022/1-stage-multitask/resnet34d_384_LVEF50\"\n",
    "multitask_clinical_model_path = \"../../ecg/ecg-cnn-local/trained_models_02112022/1-stage-multitask-clinical/resnet34d_384_LVEF50_lstm_1layers_128dims\"\n",
    "\n",
    "\n",
    "singletask_scar_classifier = ECGClassifier(singletask_scar_model_path, model_class=\"single-task\", device=\"cuda\", task=\"scar\")\n",
    "singletask_lvef_classifier = ECGClassifier(singletask_lvef_model_path, model_class=\"single-task\", device=\"cuda\", task=\"lvef\")\n",
    "multitask_classifier = ECGClassifier(multitask_model_path, model_class=\"multi-task\", device=\"cuda\",)\n",
    "multitask_clinical_classifier = ECGClassifier(multitask_clinical_model_path, model_class=\"multi-task-clinical\", device=\"cuda\",)"
   ]
  },
  {
   "cell_type": "code",
   "execution_count": 6,
   "metadata": {},
   "outputs": [],
   "source": [
    "csv_path = \"../../ECG_EF_Clin_train_dev_new.csv\"\n",
    "image_dir = \"../../ecg/ecg-cnn-local/siriraj_data/ECG_MRI_images_new/\"\n",
    "df = load_ecg_dataframe(csv_path, image_dir, drop_impute=False, do_split=True)\n",
    "old_test_df = df[df[\"split\"] == \"old_test\"].reset_index(drop=True)\n",
    "\n",
    "df = load_ecg_dataframe(csv_path, image_dir, drop_impute=True, do_split=True)\n",
    "old_test_df_no_impute = df[df[\"split\"] == \"old_test\"].reset_index(drop=True)\n",
    "\n",
    "csv_path = \"../../ECG_EF_Clin_test_new_nocut_noimpute.csv\"\n",
    "image_dir = \"../../ecg/ecg-cnn-local/siriraj_data/ECG_MRI_test_images_new/\"\n",
    "new_test_df = load_ecg_dataframe(csv_path, image_dir, drop_impute=True, do_split=False)"
   ]
  },
  {
   "attachments": {},
   "cell_type": "markdown",
   "metadata": {},
   "source": [
    "## **Evaluation**"
   ]
  },
  {
   "attachments": {},
   "cell_type": "markdown",
   "metadata": {},
   "source": [
    "### **single-task**"
   ]
  },
  {
   "cell_type": "code",
   "execution_count": 4,
   "metadata": {},
   "outputs": [
    {
     "data": {
      "application/vnd.jupyter.widget-view+json": {
       "model_id": "ce3e87af1de64910b087a2413a754df9",
       "version_major": 2,
       "version_minor": 0
      },
      "text/plain": [
       "  0%|          | 0/406 [00:00<?, ?it/s]"
      ]
     },
     "metadata": {},
     "output_type": "display_data"
    },
    {
     "data": {
      "application/vnd.jupyter.widget-view+json": {
       "model_id": "5ca1fa8b868d4e24b1e39580a167ed80",
       "version_major": 2,
       "version_minor": 0
      },
      "text/plain": [
       "  0%|          | 0/406 [00:00<?, ?it/s]"
      ]
     },
     "metadata": {},
     "output_type": "display_data"
    }
   ],
   "source": [
    "scar_result_df, scar_metric_df = evaluate_from_dataframe(old_test_df, singletask_scar_classifier)\n",
    "lvef_result_df, lvef_metric_df = evaluate_from_dataframe(old_test_df, singletask_lvef_classifier)"
   ]
  },
  {
   "attachments": {},
   "cell_type": "markdown",
   "metadata": {},
   "source": [
    "### **multi-task**"
   ]
  },
  {
   "cell_type": "code",
   "execution_count": 15,
   "metadata": {},
   "outputs": [
    {
     "data": {
      "application/vnd.jupyter.widget-view+json": {
       "model_id": "1e139a7524ba468a8f3dbb9242593bc9",
       "version_major": 2,
       "version_minor": 0
      },
      "text/plain": [
       "  0%|          | 0/1045 [00:00<?, ?it/s]"
      ]
     },
     "metadata": {},
     "output_type": "display_data"
    },
    {
     "data": {
      "application/vnd.jupyter.widget-view+json": {
       "model_id": "94ce46dd20e44f44a3216bf9c8c87e6d",
       "version_major": 2,
       "version_minor": 0
      },
      "text/plain": [
       "  0%|          | 0/406 [00:00<?, ?it/s]"
      ]
     },
     "metadata": {},
     "output_type": "display_data"
    },
    {
     "data": {
      "application/vnd.jupyter.widget-view+json": {
       "model_id": "d443a5c72dd649d3b11a915c652060e3",
       "version_major": 2,
       "version_minor": 0
      },
      "text/plain": [
       "  0%|          | 0/1483 [00:00<?, ?it/s]"
      ]
     },
     "metadata": {},
     "output_type": "display_data"
    }
   ],
   "source": [
    "old_result_df, old_metric_df = evaluate_from_dataframe(old_test_df, multitask_classifier)\n",
    "old_no_impute_result_df, old_no_impute_metric_df = evaluate_from_dataframe(old_test_df_no_impute, multitask_classifier)\n",
    "\n",
    "new_result_df, new_metric_df = evaluate_from_dataframe(new_test_df, multitask_classifier)"
   ]
  },
  {
   "cell_type": "code",
   "execution_count": 16,
   "metadata": {},
   "outputs": [
    {
     "data": {
      "text/plain": [
       "(                 scar      lvef\n",
       " Accuracy     0.709091  0.881340\n",
       " Sensitivity  0.772563  0.885417\n",
       " Specificity  0.686198  0.880422\n",
       " F1           0.584699  0.732759\n",
       " AUC          0.823789  0.948188\n",
       " FPR          0.313802  0.119578\n",
       " FNR          0.227437  0.114583,\n",
       "                  scar      lvef\n",
       " Accuracy     0.704433  0.901478\n",
       " Sensitivity  0.768519  0.920000\n",
       " Specificity  0.681208  0.897281\n",
       " F1           0.580420  0.775281\n",
       " AUC          0.798378  0.960040\n",
       " FPR          0.318792  0.102719\n",
       " FNR          0.231481  0.080000,\n",
       "                  scar      lvef\n",
       " Accuracy     0.740391  0.880647\n",
       " Sensitivity  0.748130  0.718631\n",
       " Specificity  0.737523  0.915574\n",
       " F1           0.609137  0.681081\n",
       " AUC          0.836965  0.933920\n",
       " FPR          0.262477  0.084426\n",
       " FNR          0.251870  0.281369)"
      ]
     },
     "execution_count": 16,
     "metadata": {},
     "output_type": "execute_result"
    }
   ],
   "source": [
    "old_metric_df, old_no_impute_metric_df, new_metric_df"
   ]
  },
  {
   "attachments": {},
   "cell_type": "markdown",
   "metadata": {},
   "source": [
    "### **multi-task-clinical**"
   ]
  },
  {
   "cell_type": "code",
   "execution_count": 17,
   "metadata": {},
   "outputs": [
    {
     "data": {
      "application/vnd.jupyter.widget-view+json": {
       "model_id": "04bdfc247c7e4f29b2a4c156279123c1",
       "version_major": 2,
       "version_minor": 0
      },
      "text/plain": [
       "  0%|          | 0/1045 [00:00<?, ?it/s]"
      ]
     },
     "metadata": {},
     "output_type": "display_data"
    },
    {
     "data": {
      "application/vnd.jupyter.widget-view+json": {
       "model_id": "d34184268ac244fbb2a83fe8e792ccdf",
       "version_major": 2,
       "version_minor": 0
      },
      "text/plain": [
       "  0%|          | 0/406 [00:00<?, ?it/s]"
      ]
     },
     "metadata": {},
     "output_type": "display_data"
    },
    {
     "data": {
      "application/vnd.jupyter.widget-view+json": {
       "model_id": "2e37764d73c948b697931cc062905b4c",
       "version_major": 2,
       "version_minor": 0
      },
      "text/plain": [
       "  0%|          | 0/1483 [00:00<?, ?it/s]"
      ]
     },
     "metadata": {},
     "output_type": "display_data"
    }
   ],
   "source": [
    "old_result_df, old_metric_df = evaluate_from_dataframe(old_test_df, multitask_clinical_classifier)\n",
    "old_no_impute_result_df, old_no_impute_metric_df = evaluate_from_dataframe(old_no_impute_test_df, multitask_clinical_classifier)\n",
    "\n",
    "new_result_df, new_metric_df = evaluate_from_dataframe(new_test_df, multitask_clinical_classifier)"
   ]
  },
  {
   "cell_type": "code",
   "execution_count": 18,
   "metadata": {},
   "outputs": [
    {
     "data": {
      "text/plain": [
       "(                 scar      lvef\n",
       " Accuracy     0.789474  0.875598\n",
       " Sensitivity  0.678700  0.901042\n",
       " Specificity  0.829427  0.869871\n",
       " F1           0.630872  0.726891\n",
       " AUC          0.839012  0.945142\n",
       " FPR          0.170573  0.130129\n",
       " FNR          0.321300  0.098958,\n",
       "                  scar      lvef\n",
       " Accuracy     0.766010  0.884236\n",
       " Sensitivity  0.648148  0.880000\n",
       " Specificity  0.808725  0.885196\n",
       " F1           0.595745  0.737430\n",
       " AUC          0.795659  0.951742\n",
       " FPR          0.191275  0.114804\n",
       " FNR          0.351852  0.120000,\n",
       "                  scar      lvef\n",
       " Accuracy     0.840863  0.877950\n",
       " Sensitivity  0.583541  0.741445\n",
       " Specificity  0.936229  0.907377\n",
       " F1           0.664773  0.683012\n",
       " AUC          0.852027  0.926505\n",
       " FPR          0.063771  0.092623\n",
       " FNR          0.416459  0.258555)"
      ]
     },
     "execution_count": 18,
     "metadata": {},
     "output_type": "execute_result"
    }
   ],
   "source": [
    "old_metric_df, old_no_impute_metric_df, new_metric_df"
   ]
  }
 ],
 "metadata": {
  "kernelspec": {
   "display_name": "ecg",
   "language": "python",
   "name": "python3"
  },
  "language_info": {
   "codemirror_mode": {
    "name": "ipython",
    "version": 3
   },
   "file_extension": ".py",
   "mimetype": "text/x-python",
   "name": "python",
   "nbconvert_exporter": "python",
   "pygments_lexer": "ipython3",
   "version": "3.8.13"
  },
  "orig_nbformat": 4,
  "vscode": {
   "interpreter": {
    "hash": "109b74d06ceef90c267188b655f808679842e5df9d924ed4ca45afc3047e2ff5"
   }
  }
 },
 "nbformat": 4,
 "nbformat_minor": 2
}
