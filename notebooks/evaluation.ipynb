{
 "cells": [
  {
   "attachments": {},
   "cell_type": "markdown",
   "metadata": {},
   "source": [
    "## **Preparations**"
   ]
  },
  {
   "cell_type": "code",
   "execution_count": 1,
   "metadata": {},
   "outputs": [
    {
     "name": "stderr",
     "output_type": "stream",
     "text": [
      "c:\\Anaconda3\\envs\\ecg\\lib\\site-packages\\numpy\\_distributor_init.py:30: UserWarning: loaded more than 1 DLL from .libs:\n",
      "c:\\Anaconda3\\envs\\ecg\\lib\\site-packages\\numpy\\.libs\\libopenblas.FB5AE2TYXYH2IJRDKGDGQ3XBKLKTF43H.gfortran-win_amd64.dll\n",
      "c:\\Anaconda3\\envs\\ecg\\lib\\site-packages\\numpy\\.libs\\libopenblas64__v0.3.21-gcc_10_3_0.dll\n",
      "  warnings.warn(\"loaded more than 1 DLL from .libs:\"\n",
      "c:\\Anaconda3\\envs\\ecg\\lib\\site-packages\\pkg_resources\\__init__.py:123: PkgResourcesDeprecationWarning: llow is an invalid version and will not be supported in a future release\n",
      "  warnings.warn(\n"
     ]
    }
   ],
   "source": [
    "import os\n",
    "import sys\n",
    "import os.path as op\n",
    "import numpy as np\n",
    "import pandas as pd\n",
    "from tqdm.auto import tqdm\n",
    "from functools import partial\n",
    "\n",
    "import torch\n",
    "\n",
    "sys.path.append(\"..\")\n",
    "from mtecg.classifier import ECGClassifier\n",
    "from mtecg.evaluation import evaluate_from_dataframe\n",
    "from mtecg.utils import load_ecg_dataframe\n",
    "\n",
    "\n",
    "SEED = 42\n",
    "np.random.seed(SEED)\n",
    "torch.manual_seed(SEED)\n",
    "torch.backends.cudnn.deterministic = True\n",
    "torch.backends.cudnn.benchmark = True\n",
    "torch.cuda.manual_seed(SEED)"
   ]
  },
  {
   "cell_type": "code",
   "execution_count": 6,
   "metadata": {},
   "outputs": [
    {
     "name": "stderr",
     "output_type": "stream",
     "text": [
      "Lightning automatically upgraded your loaded checkpoint from v1.5.8 to v1.9.0. To apply the upgrade to your files permanently, run `python -m pytorch_lightning.utilities.upgrade_checkpoint --file c:\\Users\\namea\\Desktop\\multitask-vision-ecg\\trained_models\\single-task-scar\\resnet34d_384_LVEF50\\model.ckpt`\n",
      "Lightning automatically upgraded your loaded checkpoint from v1.5.8 to v1.9.0. To apply the upgrade to your files permanently, run `python -m pytorch_lightning.utilities.upgrade_checkpoint --file c:\\Users\\namea\\Desktop\\multitask-vision-ecg\\trained_models\\single-task-lvef\\resnet34d_384_LVEF50\\model.ckpt`\n",
      "Lightning automatically upgraded your loaded checkpoint from v1.5.8 to v1.9.0. To apply the upgrade to your files permanently, run `python -m pytorch_lightning.utilities.upgrade_checkpoint --file c:\\Users\\namea\\Desktop\\multitask-vision-ecg\\trained_models\\multi-task\\resnet34d_384_LVEF50\\model.ckpt`\n"
     ]
    }
   ],
   "source": [
    "# singletask_scar_model_path = \"../../ecg/ecg-cnn-local/trained_models_02112022/single-task-scar/resnet34d_384_LVEF50\"\n",
    "# singletask_lvef_model_path = \"../../ecg/ecg-cnn-local/trained_models_02112022/single-task-lvef/resnet34d_384_LVEF50\"\n",
    "# multitask_model_path = \"../../ecg/ecg-cnn-local/trained_models_02112022/1-stage-multitask/resnet34d_384_LVEF50\"\n",
    "# multitask_clinical_model_path = \"../../ecg/ecg-cnn-local/trained_models_02112022/1-stage-multitask-clinical/resnet34d_384_LVEF50_lstm_1layers_128dims\"\n",
    "\n",
    "singletask_scar_model_path = \"../trained_models/single-task-scar/resnet34d_384_LVEF50\"\n",
    "singletask_lvef_model_path = \"../trained_models/single-task-lvef/resnet34d_384_LVEF50\"\n",
    "multitask_model_path = \"../trained_models/multi-task/resnet34d_384_LVEF50\"\n",
    "multitask_clinical_model_path = \"../trained_models/multi-task-clinical/resnet34d_384_LVEF50_dim128\"\n",
    "\n",
    "\n",
    "singletask_scar_classifier = ECGClassifier(singletask_scar_model_path, model_class=\"single-task\", device=\"cuda\", task=\"scar\")\n",
    "singletask_lvef_classifier = ECGClassifier(singletask_lvef_model_path, model_class=\"single-task\", device=\"cuda\", task=\"lvef\")\n",
    "multitask_classifier = ECGClassifier(multitask_model_path, model_class=\"multi-task\", device=\"cuda\",)\n",
    "multitask_clinical_classifier = ECGClassifier(multitask_clinical_model_path, model_class=\"multi-task-clinical\", device=\"cuda\",)"
   ]
  },
  {
   "cell_type": "code",
   "execution_count": 7,
   "metadata": {},
   "outputs": [],
   "source": [
    "old_csv_path = \"../../ECG_EF_Clin_train_dev_new.csv\"\n",
    "old_image_dir = \"../../ecg/ecg-cnn-local/siriraj_data/ECG_MRI_images_new/\"\n",
    "new_csv_path = \"../../ECG_EF_Clin_test_new_nocut_noimpute.csv\"\n",
    "new_image_dir = \"../../ecg/ecg-cnn-local/siriraj_data/ECG_MRI_test_images_new/\"\n",
    "control_csv_path = \"../../ecg/ecg-cnn-local/siriraj_data/ECG_Normal/ECG_normal_n2097_220906_modified.csv\"\n",
    "control_image_dir = \"../../ecg/ecg-cnn-local/siriraj_data/ECG_normal_images\""
   ]
  },
  {
   "cell_type": "code",
   "execution_count": 8,
   "metadata": {},
   "outputs": [],
   "source": [
    "# Old test set.\n",
    "old_test_df = load_ecg_dataframe(\n",
    "    old_csv_path, old_image_dir, drop_impute=False, imputer_dir=multitask_clinical_model_path, do_split=True\n",
    ")\n",
    "old_test_df = old_test_df[old_test_df[\"split\"] == \"old_test\"].reset_index(drop=True)\n",
    "\n",
    "# Old test set with lvef_threshold= 40.\n",
    "sensitivity_old_test_df = load_ecg_dataframe(\n",
    "    old_csv_path,\n",
    "    old_image_dir,\n",
    "    drop_impute=False,\n",
    "    imputer_dir=multitask_clinical_model_path,\n",
    "    do_split=True,\n",
    "    lvef_threshold=40,\n",
    ")\n",
    "sensitivity_old_test_df = sensitivity_old_test_df[sensitivity_old_test_df[\"split\"] == \"old_test\"].reset_index(drop=True)\n",
    "\n",
    "# New test set.\n",
    "new_test_df = load_ecg_dataframe(\n",
    "    new_csv_path, new_image_dir, drop_impute=False, imputer_dir=multitask_clinical_model_path, do_split=False\n",
    ")\n",
    "\n",
    "# New test set with lvef_threshold= 40.\n",
    "sensitivity_new_test_df = load_ecg_dataframe(\n",
    "    new_csv_path,\n",
    "    new_image_dir,\n",
    "    drop_impute=False,\n",
    "    imputer_dir=multitask_clinical_model_path,\n",
    "    do_split=False,\n",
    "    lvef_threshold=40,\n",
    ")\n",
    "\n",
    "# Control population test set.\n",
    "control_test_df = load_ecg_dataframe(\n",
    "    control_csv_path,\n",
    "    control_image_dir,\n",
    "    drop_impute=False,\n",
    "    do_split=False,\n",
    "    is_control_population=True,\n",
    ")"
   ]
  },
  {
   "cell_type": "code",
   "execution_count": 3,
   "metadata": {},
   "outputs": [],
   "source": [
    "# Control population test set.\n",
    "control_test_df = load_ecg_dataframe(\n",
    "    control_csv_path,\n",
    "    control_image_dir,\n",
    "    drop_impute=False,\n",
    "    do_split=False,\n",
    "    is_control_population=True,\n",
    ")"
   ]
  },
  {
   "cell_type": "code",
   "execution_count": 23,
   "metadata": {},
   "outputs": [],
   "source": [
    "# For convenience.\n",
    "\n",
    "EVAL_DATA_MAP = {\n",
    "    \"old-test\": {\"data\": old_test_df, \"save_suffix\": \"old_test\",},\n",
    "    \"old-test-sensitivity\": {\"data\": sensitivity_old_test_df, \"save_suffix\": \"old_test_sensitivity\",},\n",
    "    \"new-test\": {\"data\": new_test_df, \"save_suffix\": \"new_test\",},\n",
    "    \"new-test-sensitivity\": {\"data\": sensitivity_new_test_df, \"save_suffix\": \"new_test_sensitivity\",},\n",
    "    \"control-test\": {\"data\": control_test_df, \"save_suffix\": \"control_test\",},\n",
    "}\n",
    "\n",
    "TEST_SET_SAVE_SUFFIX_LIST = [param_dict[\"save_suffix\"] for param_dict in EVAL_DATA_MAP.values()]\n",
    "\n",
    "\n",
    "def evaluate_and_save(\n",
    "    classifier: ECGClassifier,\n",
    "    save_dir: str,\n",
    "    average: str = \"weighted\",\n",
    "    prediction_csv_name_pattern: str = \"prediction_{save_suffix}.csv\",\n",
    "    metric_csv_name_pattern: str = \"metrics_{save_suffix}.csv\",\n",
    "):\n",
    "    for test_set_name, param_dict in tqdm(EVAL_DATA_MAP.items()):\n",
    "        dataframe, save_suffix = param_dict[\"data\"], param_dict[\"save_suffix\"]\n",
    "        if \"control\" in test_set_name:\n",
    "            result_dataframe, metric_dataframe = evaluate_from_dataframe(\n",
    "                dataframe,\n",
    "                classifier,\n",
    "                is_control_population=True,\n",
    "                average=average,\n",
    "                )\n",
    "        result_dataframe, metric_dataframe = evaluate_from_dataframe(dataframe, classifier)\n",
    "\n",
    "        result_save_path = op.join(save_dir, prediction_csv_name_pattern.format(save_suffix=save_suffix))\n",
    "        metric_save_path = op.join(save_dir, metric_csv_name_pattern.format(save_suffix=save_suffix))\n",
    "\n",
    "        result_dataframe.to_csv(result_save_path, index=False)\n",
    "        metric_dataframe.to_csv(metric_save_path, index=True)"
   ]
  },
  {
   "attachments": {},
   "cell_type": "markdown",
   "metadata": {},
   "source": [
    "## **Evaluation**"
   ]
  },
  {
   "attachments": {},
   "cell_type": "markdown",
   "metadata": {},
   "source": [
    "### **Baseline**"
   ]
  },
  {
   "cell_type": "code",
   "execution_count": 34,
   "metadata": {},
   "outputs": [],
   "source": [
    "from sklearn.metrics import confusion_matrix, accuracy_score, f1_score, roc_auc_score\n",
    "\n",
    "def get_baseline_metrics(\n",
    "    save_dir: str = None,\n",
    "    label_column_name: str = \"scar_cad\",\n",
    "    metric_csv_name_pattern: str = \"{save_suffix}.csv\",\n",
    "    average: str = \"weighted\",\n",
    "    ):\n",
    "    baseline_metric_dict = {}\n",
    "    for test_set_name, param_dict in EVAL_DATA_MAP.items():\n",
    "        dataframe = param_dict[\"data\"]\n",
    "        baseline_predictions = np.zeros(len(dataframe))\n",
    "        \n",
    "        # get specificity from confusion matrix\n",
    "        tn, fp, fn, tp = confusion_matrix(dataframe[label_column_name], baseline_predictions).ravel()\n",
    "        specificity = tn / (tn+fp)\n",
    "        fpr = fp / (fp+tn)\n",
    "\n",
    "        baseline_metric_dict[test_set_name] = {\n",
    "            \"Accuracy\": accuracy_score(dataframe[label_column_name], baseline_predictions),\n",
    "            \"Specificity\": specificity,\n",
    "            \"Sensitivity\": None,\n",
    "            \"F1\": f1_score(dataframe[label_column_name], baseline_predictions, average=average),\n",
    "            \"AUC\": None,\n",
    "            \"FPR\": fpr,\n",
    "            \"FNR\": None,\n",
    "        }\n",
    "\n",
    "    if save_dir:\n",
    "        os.makedirs(save_dir, exist_ok=True)\n",
    "        for test_set_name, param_dict in EVAL_DATA_MAP.items():\n",
    "            save_suffix = param_dict[\"save_suffix\"]\n",
    "            metric_save_path = op.join(save_dir, metric_csv_name_pattern.format(save_suffix=save_suffix))\n",
    "            pd.DataFrame(baseline_metric_dict[test_set_name], index=[0]).T.to_csv(metric_save_path, index=True)\n",
    "\n",
    "    return baseline_metric_dict"
   ]
  },
  {
   "cell_type": "code",
   "execution_count": 35,
   "metadata": {},
   "outputs": [],
   "source": [
    "scar_baseline_metric_dict = get_baseline_metrics(\n",
    "    save_dir=op.join(\"../resources/statistics/scar_baseline_metrics\"),\n",
    "    label_column_name=\"scar_cad\",\n",
    ")\n",
    "\n",
    "lvef_baseline_metric_dict = get_baseline_metrics(\n",
    "    save_dir=op.join(\"../resources/statistics/lvef_baseline_metrics\"),\n",
    "    label_column_name=\"lvef\",\n",
    ")"
   ]
  },
  {
   "attachments": {},
   "cell_type": "markdown",
   "metadata": {},
   "source": [
    "### **single-task**"
   ]
  },
  {
   "cell_type": "code",
   "execution_count": 24,
   "metadata": {},
   "outputs": [
    {
     "data": {
      "application/vnd.jupyter.widget-view+json": {
       "model_id": "d656f6382b7a45938c1371b27ed64f71",
       "version_major": 2,
       "version_minor": 0
      },
      "text/plain": [
       "  0%|          | 0/4 [00:00<?, ?it/s]"
      ]
     },
     "metadata": {},
     "output_type": "display_data"
    },
    {
     "data": {
      "application/vnd.jupyter.widget-view+json": {
       "model_id": "cd3cf40a7e8c414d998bdf18fb202c7b",
       "version_major": 2,
       "version_minor": 0
      },
      "text/plain": [
       "  0%|          | 0/1045 [00:00<?, ?it/s]"
      ]
     },
     "metadata": {},
     "output_type": "display_data"
    },
    {
     "data": {
      "application/vnd.jupyter.widget-view+json": {
       "model_id": "efd90408f5c446fd85041c6a24fb3eba",
       "version_major": 2,
       "version_minor": 0
      },
      "text/plain": [
       "  0%|          | 0/1045 [00:00<?, ?it/s]"
      ]
     },
     "metadata": {},
     "output_type": "display_data"
    },
    {
     "data": {
      "application/vnd.jupyter.widget-view+json": {
       "model_id": "5e4de4de49c64375a004c8e896ff187f",
       "version_major": 2,
       "version_minor": 0
      },
      "text/plain": [
       "  0%|          | 0/1483 [00:00<?, ?it/s]"
      ]
     },
     "metadata": {},
     "output_type": "display_data"
    },
    {
     "data": {
      "application/vnd.jupyter.widget-view+json": {
       "model_id": "c154e83d9d5b4586a075399ba95087ef",
       "version_major": 2,
       "version_minor": 0
      },
      "text/plain": [
       "  0%|          | 0/1483 [00:00<?, ?it/s]"
      ]
     },
     "metadata": {},
     "output_type": "display_data"
    },
    {
     "data": {
      "application/vnd.jupyter.widget-view+json": {
       "model_id": "8376c1781b9f4177940a295f05e2f081",
       "version_major": 2,
       "version_minor": 0
      },
      "text/plain": [
       "  0%|          | 0/4 [00:00<?, ?it/s]"
      ]
     },
     "metadata": {},
     "output_type": "display_data"
    },
    {
     "data": {
      "application/vnd.jupyter.widget-view+json": {
       "model_id": "a82bd1b13f3747adb59c70e48c4930db",
       "version_major": 2,
       "version_minor": 0
      },
      "text/plain": [
       "  0%|          | 0/1045 [00:00<?, ?it/s]"
      ]
     },
     "metadata": {},
     "output_type": "display_data"
    },
    {
     "data": {
      "application/vnd.jupyter.widget-view+json": {
       "model_id": "5a5dd5a56aac4eb9b5ad699afbb5bbc6",
       "version_major": 2,
       "version_minor": 0
      },
      "text/plain": [
       "  0%|          | 0/1045 [00:00<?, ?it/s]"
      ]
     },
     "metadata": {},
     "output_type": "display_data"
    },
    {
     "data": {
      "application/vnd.jupyter.widget-view+json": {
       "model_id": "4cfe3c1af7934fc19639ff6d26c3e4ec",
       "version_major": 2,
       "version_minor": 0
      },
      "text/plain": [
       "  0%|          | 0/1483 [00:00<?, ?it/s]"
      ]
     },
     "metadata": {},
     "output_type": "display_data"
    },
    {
     "data": {
      "application/vnd.jupyter.widget-view+json": {
       "model_id": "48c2cb1ab8d64c8da4734a066613d9ff",
       "version_major": 2,
       "version_minor": 0
      },
      "text/plain": [
       "  0%|          | 0/1483 [00:00<?, ?it/s]"
      ]
     },
     "metadata": {},
     "output_type": "display_data"
    }
   ],
   "source": [
    "evaluate_and_save(singletask_scar_classifier, save_dir=singletask_scar_model_path)\n",
    "evaluate_and_save(singletask_lvef_classifier, save_dir=singletask_lvef_model_path)"
   ]
  },
  {
   "attachments": {},
   "cell_type": "markdown",
   "metadata": {},
   "source": [
    "### **multi-task**"
   ]
  },
  {
   "cell_type": "code",
   "execution_count": 25,
   "metadata": {},
   "outputs": [
    {
     "data": {
      "application/vnd.jupyter.widget-view+json": {
       "model_id": "61ba4f3cdc734ed78d1f03aff3625c1c",
       "version_major": 2,
       "version_minor": 0
      },
      "text/plain": [
       "  0%|          | 0/4 [00:00<?, ?it/s]"
      ]
     },
     "metadata": {},
     "output_type": "display_data"
    },
    {
     "data": {
      "application/vnd.jupyter.widget-view+json": {
       "model_id": "1516e506a59346379203a08f2ae8fd96",
       "version_major": 2,
       "version_minor": 0
      },
      "text/plain": [
       "  0%|          | 0/1045 [00:00<?, ?it/s]"
      ]
     },
     "metadata": {},
     "output_type": "display_data"
    },
    {
     "data": {
      "application/vnd.jupyter.widget-view+json": {
       "model_id": "b286ebb133d8453fb95cc3ae691c14b9",
       "version_major": 2,
       "version_minor": 0
      },
      "text/plain": [
       "  0%|          | 0/1045 [00:00<?, ?it/s]"
      ]
     },
     "metadata": {},
     "output_type": "display_data"
    },
    {
     "data": {
      "application/vnd.jupyter.widget-view+json": {
       "model_id": "33a4739272c9470fb6e0e09b9350b5b4",
       "version_major": 2,
       "version_minor": 0
      },
      "text/plain": [
       "  0%|          | 0/1483 [00:00<?, ?it/s]"
      ]
     },
     "metadata": {},
     "output_type": "display_data"
    },
    {
     "data": {
      "application/vnd.jupyter.widget-view+json": {
       "model_id": "eb5d8b46e11448afa39a512c6cf91800",
       "version_major": 2,
       "version_minor": 0
      },
      "text/plain": [
       "  0%|          | 0/1483 [00:00<?, ?it/s]"
      ]
     },
     "metadata": {},
     "output_type": "display_data"
    }
   ],
   "source": [
    "evaluate_and_save(multitask_classifier, save_dir=multitask_model_path)"
   ]
  },
  {
   "attachments": {},
   "cell_type": "markdown",
   "metadata": {},
   "source": [
    "### **multi-task-clinical**"
   ]
  },
  {
   "cell_type": "code",
   "execution_count": 17,
   "metadata": {},
   "outputs": [
    {
     "data": {
      "application/vnd.jupyter.widget-view+json": {
       "model_id": "04bdfc247c7e4f29b2a4c156279123c1",
       "version_major": 2,
       "version_minor": 0
      },
      "text/plain": [
       "  0%|          | 0/1045 [00:00<?, ?it/s]"
      ]
     },
     "metadata": {},
     "output_type": "display_data"
    },
    {
     "data": {
      "application/vnd.jupyter.widget-view+json": {
       "model_id": "d34184268ac244fbb2a83fe8e792ccdf",
       "version_major": 2,
       "version_minor": 0
      },
      "text/plain": [
       "  0%|          | 0/406 [00:00<?, ?it/s]"
      ]
     },
     "metadata": {},
     "output_type": "display_data"
    },
    {
     "data": {
      "application/vnd.jupyter.widget-view+json": {
       "model_id": "2e37764d73c948b697931cc062905b4c",
       "version_major": 2,
       "version_minor": 0
      },
      "text/plain": [
       "  0%|          | 0/1483 [00:00<?, ?it/s]"
      ]
     },
     "metadata": {},
     "output_type": "display_data"
    }
   ],
   "source": [
    "evaluate_and_save(multitask_clinical_classifier, save_dir=multitask_clinical_model_path)"
   ]
  },
  {
   "attachments": {},
   "cell_type": "markdown",
   "metadata": {},
   "source": [
    "[scar] Prevalence-specific Evaluation"
   ]
  },
  {
   "cell_type": "code",
   "execution_count": null,
   "metadata": {},
   "outputs": [],
   "source": [
    "import random\n",
    "\n",
    "def sample(dataframe, num_samples: int = 500, prevalence: float = 7.9):\n",
    "    \"\"\"\n",
    "    Sample a dataframe to a prevalence of 7.9% (the prevalence of scar in the dataset).\n",
    "    \"\"\"\n",
    "    positive_dataframe = dataframe[dataframe.scar_cad == 1]\n",
    "    negative_dataframe = dataframe[dataframe.scar_cad == 0]\n",
    "    \n",
    "    num_positive_samples = int(num_samples * prevalence / 100)\n",
    "    num_negative_samples = num_samples - num_positive_samples\n",
    "    \n",
    "    random_state = random.randint(0, 1000)\n",
    "    positive_sample_dataframe = positive_dataframe.sample(n=num_positive_samples, random_state = random_state).reset_index(drop=True)\n",
    "    negative_sample_dataframe = negative_dataframe.sample(n=num_negative_samples, random_state = random_state).reset_index(drop=True)\n",
    "    sampled_dataframe = pd.concat([positive_sample_dataframe, negative_sample_dataframe]).reset_index(drop=True)\n",
    "    return sampled_dataframe"
   ]
  },
  {
   "cell_type": "code",
   "execution_count": null,
   "metadata": {},
   "outputs": [],
   "source": [
    "scar_auc_list = []\n",
    "for i in tqdm(range(100)):\n",
    "    sampled_clinical_test_df = sample(new_test_df, num_samples = 500)\n",
    "    _, metric_df = evaluate_from_dataframe(new_test_df, multitask_clinical_classifier)\n",
    "    scar_auc_list.append(metric_df[\"scar\"][\"AUC\"][-3])\n",
    "\n",
    "pd.DataFrame(\n",
    "    {\n",
    "        \"mean\": [np.mean(scar_auc_list)],\n",
    "        \"std\": [np.std(scar_auc_list)],\n",
    "        }\n",
    ")\\\n",
    "    .round(3)\\\n",
    "    .to_csv(op.join(parent_save_dir, run_name, \"prevalence_specific_auc.csv\"), index=False)\n"
   ]
  },
  {
   "attachments": {},
   "cell_type": "markdown",
   "metadata": {},
   "source": [
    "## **Save Prediction Probabilities on Each Test Set as a single file**"
   ]
  },
  {
   "cell_type": "code",
   "execution_count": 14,
   "metadata": {},
   "outputs": [],
   "source": [
    "import pandas as pd\n",
    "from typing import Dict, List\n",
    "\n",
    "# A function to read the predictions from the save csv file in each model folder.\n",
    "# The probability columns of each task are then concatenated into a single dataframe.\n",
    "# The probability columns are in the format f\"{task}_probability\".\n",
    "\n",
    "def get_probabilities(\n",
    "    model_name_to_dir_map: Dict[str, str],\n",
    "    test_set_suffix_list: List[str],\n",
    "    probability_column_name_pattern: str = \"{task}_probability\",\n",
    "    prediction_csv_name_pattern: str = \"prediction_{test_set_suffix}.csv\",\n",
    "    task: str = \"scar\",\n",
    ") -> List[pd.DataFrame]:\n",
    "    \"\"\"\n",
    "    Get the probabilities of the given task from the predictions of the models.\n",
    "    \"\"\"\n",
    "    probability_column_name = probability_column_name_pattern.format(task=task)\n",
    "\n",
    "    test_set_to_probability_dataframe_dict = {}\n",
    "    for test_set_suffix in test_set_suffix_list:\n",
    "        model_name_to_probabilities_dict = {}\n",
    "        for model_name, model_dir in model_name_to_dir_map.items():\n",
    "            filename = prediction_csv_name_pattern.format(test_set_suffix=test_set_suffix)\n",
    "            prediction_path = op.join(model_dir, filename)\n",
    "            prediction_dataframe = pd.read_csv(prediction_path)\n",
    "            model_name_to_probabilities_dict[model_name] = prediction_dataframe[probability_column_name]\n",
    "        probability_dataframe = pd.DataFrame(model_name_to_probabilities_dict)\n",
    "        test_set_to_probability_dataframe_dict[test_set_suffix] = probability_dataframe\n",
    "    return test_set_to_probability_dataframe_dict"
   ]
  },
  {
   "cell_type": "code",
   "execution_count": 15,
   "metadata": {},
   "outputs": [],
   "source": [
    "multitask_old_format_model_path = \"../../ecg/ecg-cnn-local/trained_models_02112022/pretrained-multitask/resnet34d_384_LVEF50\"\n",
    "multitask_transferred_model_path = \"../../ecg/ecg-cnn-local/trained_models_02112022/finetuned-multitask/resnet34d_384_LVEF50\"\n",
    "singletask_scar_model_path = \"../../ecg/ecg-cnn-local/trained_models_02112022/single-task-scar/resnet34d_384_LVEF50\"\n",
    "singletask_lvef_model_path = \"../../ecg/ecg-cnn-local/trained_models_02112022/single-task-lvef/resnet34d_384_LVEF50\"\n",
    "multitask_model_path = \"../../ecg/ecg-cnn-local/trained_models_02112022/1-stage-multitask/resnet34d_384_LVEF50\"\n",
    "multitask_clinical_model_path = \"../../ecg/ecg-cnn-local/trained_models_02112022/1-stage-multitask-clinical/resnet34d_384_LVEF50_lstm_1layers_128dims\"\n",
    "xgboost_model_path = \"../../ecg/ecg-cnn-local/trained_models_02112022/xgb\""
   ]
  },
  {
   "cell_type": "code",
   "execution_count": null,
   "metadata": {},
   "outputs": [],
   "source": [
    "tasks = [\"scar\", \"lvef\"]\n",
    "for task in tasks:\n",
    "    model_name_to_dir_map = {\n",
    "        \"multi-task-old-format\": multitask_old_format_model_path,\n",
    "        \"multi-task-transferred\": multitask_transferred_model_path,\n",
    "        \"single-task\": singletask_scar_model_path if task == \"scar\" else singletask_lvef_model_path,\n",
    "        \"multi-task\": multitask_model_path,\n",
    "        \"multi-task-clinical\": multitask_clinical_model_path,\n",
    "        \"xgboost-clinical\": xgboost_model_path,\n",
    "    }\n",
    "\n",
    "    test_set_to_probability_dataframe_dict = get_probabilities(\n",
    "        model_name_to_dir_map=model_name_to_dir_map,\n",
    "        test_set_suffix_list=TEST_SET_SAVE_SUFFIX_LIST,\n",
    "        task=task,\n",
    "    )"
   ]
  }
 ],
 "metadata": {
  "kernelspec": {
   "display_name": "ecg",
   "language": "python",
   "name": "python3"
  },
  "language_info": {
   "codemirror_mode": {
    "name": "ipython",
    "version": 3
   },
   "file_extension": ".py",
   "mimetype": "text/x-python",
   "name": "python",
   "nbconvert_exporter": "python",
   "pygments_lexer": "ipython3",
   "version": "3.8.13"
  },
  "orig_nbformat": 4,
  "vscode": {
   "interpreter": {
    "hash": "109b74d06ceef90c267188b655f808679842e5df9d924ed4ca45afc3047e2ff5"
   }
  }
 },
 "nbformat": 4,
 "nbformat_minor": 2
}
