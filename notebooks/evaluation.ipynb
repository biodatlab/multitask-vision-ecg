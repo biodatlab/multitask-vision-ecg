{
 "cells": [
  {
   "attachments": {},
   "cell_type": "markdown",
   "metadata": {},
   "source": [
    "## **Preparations**"
   ]
  },
  {
   "cell_type": "code",
   "execution_count": 2,
   "metadata": {},
   "outputs": [
    {
     "name": "stderr",
     "output_type": "stream",
     "text": [
      "c:\\Anaconda3\\envs\\ecg\\lib\\site-packages\\numpy\\_distributor_init.py:30: UserWarning: loaded more than 1 DLL from .libs:\n",
      "c:\\Anaconda3\\envs\\ecg\\lib\\site-packages\\numpy\\.libs\\libopenblas.FB5AE2TYXYH2IJRDKGDGQ3XBKLKTF43H.gfortran-win_amd64.dll\n",
      "c:\\Anaconda3\\envs\\ecg\\lib\\site-packages\\numpy\\.libs\\libopenblas64__v0.3.21-gcc_10_3_0.dll\n",
      "  warnings.warn(\"loaded more than 1 DLL from .libs:\"\n",
      "c:\\Anaconda3\\envs\\ecg\\lib\\site-packages\\pkg_resources\\__init__.py:123: PkgResourcesDeprecationWarning: llow is an invalid version and will not be supported in a future release\n",
      "  warnings.warn(\n"
     ]
    }
   ],
   "source": [
    "import os\n",
    "import sys\n",
    "import os.path as op\n",
    "import numpy as np\n",
    "import pandas as pd\n",
    "from tqdm.auto import tqdm\n",
    "from functools import partial\n",
    "\n",
    "import torch\n",
    "\n",
    "sys.path.append(\"..\")\n",
    "from mtecg.classifier import ECGClassifier\n",
    "from mtecg.evaluation import evaluate_from_dataframe\n",
    "from mtecg.utils import load_ecg_dataframe\n",
    "\n",
    "\n",
    "SEED = 42\n",
    "np.random.seed(SEED)\n",
    "torch.manual_seed(SEED)\n",
    "torch.backends.cudnn.deterministic = True\n",
    "torch.backends.cudnn.benchmark = True\n",
    "torch.cuda.manual_seed(SEED)"
   ]
  },
  {
   "cell_type": "code",
   "execution_count": 2,
   "metadata": {},
   "outputs": [
    {
     "name": "stderr",
     "output_type": "stream",
     "text": [
      "Lightning automatically upgraded your loaded checkpoint from v1.5.8 to v1.9.0. To apply the upgrade to your files permanently, run `python -m pytorch_lightning.utilities.upgrade_checkpoint --file c:\\Users\\namea\\Desktop\\multitask-vision-ecg\\trained_models\\multi-task-old-format\\resnet34d_384_LVEF50\\model.ckpt`\n",
      "Lightning automatically upgraded your loaded checkpoint from v1.5.8 to v1.9.0. To apply the upgrade to your files permanently, run `python -m pytorch_lightning.utilities.upgrade_checkpoint --file c:\\Users\\namea\\Desktop\\multitask-vision-ecg\\trained_models\\multi-task-transferred\\resnet34d_384_LVEF50\\model.ckpt`\n",
      "Lightning automatically upgraded your loaded checkpoint from v1.5.8 to v1.9.0. To apply the upgrade to your files permanently, run `python -m pytorch_lightning.utilities.upgrade_checkpoint --file c:\\Users\\namea\\Desktop\\multitask-vision-ecg\\trained_models\\single-task-scar\\resnet34d_384_LVEF50\\model.ckpt`\n",
      "Lightning automatically upgraded your loaded checkpoint from v1.5.8 to v1.9.0. To apply the upgrade to your files permanently, run `python -m pytorch_lightning.utilities.upgrade_checkpoint --file c:\\Users\\namea\\Desktop\\multitask-vision-ecg\\trained_models\\single-task-lvef\\resnet34d_384_LVEF50\\model.ckpt`\n",
      "Lightning automatically upgraded your loaded checkpoint from v1.5.8 to v1.9.0. To apply the upgrade to your files permanently, run `python -m pytorch_lightning.utilities.upgrade_checkpoint --file c:\\Users\\namea\\Desktop\\multitask-vision-ecg\\trained_models\\multi-task\\resnet34d_384_LVEF50\\model.ckpt`\n",
      "C:\\Users\\namea\\AppData\\Roaming\\Python\\Python38\\site-packages\\pytorch_lightning\\utilities\\migration\\utils.py:49: PossibleUserWarning: The loaded checkpoint was produced with Lightning v1.9.2, which is newer than your current Lightning version: v1.9.0\n",
      "  rank_zero_warn(\n"
     ]
    }
   ],
   "source": [
    "device = \"cuda\"\n",
    "round_probabilities = False\n",
    "\n",
    "multitask_old_format_model_path = \"../trained_models/multi-task-old-format/resnet34d_384_LVEF50\"\n",
    "multitask_transferred_model_path = \"../trained_models/multi-task-transferred/resnet34d_384_LVEF50\"\n",
    "singletask_scar_model_path = \"../trained_models/single-task-scar/resnet34d_384_LVEF50\"\n",
    "singletask_lvef_model_path = \"../trained_models/single-task-lvef/resnet34d_384_LVEF50\"\n",
    "multitask_model_path = \"../trained_models/multi-task/resnet34d_384_LVEF50\"\n",
    "# multitask_clinical_model_path = \"../trained_models/multi-task-clinical/resnet34d_384_LVEF50_dim512\"\n",
    "multitask_clinical_model_path = \"../trained_models/multi-task-clinical/resnet34d_384_LVEF50_birnn_dim512\"\n",
    "\n",
    "multitask_old_format_classifier = ECGClassifier(\n",
    "    multitask_old_format_model_path, model_class=\"multi-task\", device=device, round_probabilities=round_probabilities\n",
    ")\n",
    "multitask_transferred_classifier = ECGClassifier(\n",
    "    multitask_transferred_model_path, model_class=\"multi-task\", device=device, round_probabilities=round_probabilities\n",
    ")\n",
    "singletask_scar_classifier = ECGClassifier(\n",
    "    singletask_scar_model_path,\n",
    "    model_class=\"single-task\",\n",
    "    device=device,\n",
    "    task=\"scar\",\n",
    "    round_probabilities=round_probabilities,\n",
    ")\n",
    "singletask_lvef_classifier = ECGClassifier(\n",
    "    singletask_lvef_model_path,\n",
    "    model_class=\"single-task\",\n",
    "    device=device,\n",
    "    task=\"lvef\",\n",
    "    round_probabilities=round_probabilities,\n",
    ")\n",
    "multitask_classifier = ECGClassifier(\n",
    "    multitask_model_path, model_class=\"multi-task\", device=device, round_probabilities=round_probabilities\n",
    ")\n",
    "multitask_clinical_classifier = ECGClassifier(\n",
    "    multitask_clinical_model_path,\n",
    "    model_class=\"multi-task-clinical\",\n",
    "    device=device,\n",
    "    round_probabilities=round_probabilities,\n",
    ")"
   ]
  },
  {
   "cell_type": "code",
   "execution_count": 3,
   "metadata": {},
   "outputs": [],
   "source": [
    "old_csv_path = \"../../ECG_EF_Clin_train_dev_new.csv\"\n",
    "old_image_dir = \"../../ecg/ecg-cnn-local/siriraj_data/ECG_MRI_images_new/\"\n",
    "new_csv_path = \"../../ECG_EF_Clin_test_new_nocut_noimpute.csv\"\n",
    "new_image_dir = \"../../ecg/ecg-cnn-local/siriraj_data/ECG_MRI_test_images_new/\"\n",
    "control_csv_path = \"../../ecg/ecg-cnn-local/siriraj_data/ECG_Normal/ECG_normal_n2097_220906_modified.csv\"\n",
    "control_image_dir = \"../../ecg/ecg-cnn-local/siriraj_data/ECG_normal_images\""
   ]
  },
  {
   "cell_type": "code",
   "execution_count": 4,
   "metadata": {},
   "outputs": [],
   "source": [
    "# Old test set.\n",
    "old_test_df = load_ecg_dataframe(\n",
    "    old_csv_path, old_image_dir, imputer_dir=multitask_clinical_model_path, do_split=True\n",
    ")\n",
    "old_test_df = old_test_df[old_test_df[\"split\"] == \"old_test\"].reset_index(drop=True)\n",
    "\n",
    "# Old test set with lvef_threshold= 40.\n",
    "sensitivity_old_test_df = load_ecg_dataframe(\n",
    "    old_csv_path,\n",
    "    old_image_dir,\n",
    "    imputer_dir=multitask_clinical_model_path,\n",
    "    do_split=True,\n",
    "    lvef_threshold=40,\n",
    ")\n",
    "sensitivity_old_test_df = sensitivity_old_test_df[sensitivity_old_test_df[\"split\"] == \"old_test\"].reset_index(drop=True)\n",
    "\n",
    "# New test set. No need to impute.\n",
    "new_test_df = load_ecg_dataframe(\n",
    "    new_csv_path,\n",
    "    new_image_dir,\n",
    "    # imputer_dir=multitask_clinical_model_path,\n",
    "    do_split=False,\n",
    ")\n",
    "\n",
    "# New test set with lvef_threshold= 40. No need to impute.\n",
    "sensitivity_new_test_df = load_ecg_dataframe(\n",
    "    new_csv_path,\n",
    "    new_image_dir,\n",
    "    # imputer_dir=multitask_clinical_model_path,\n",
    "    do_split=False,\n",
    "    lvef_threshold=40,\n",
    ")\n",
    "\n",
    "# Control population test set.\n",
    "control_test_df = load_ecg_dataframe(\n",
    "    control_csv_path,\n",
    "    control_image_dir,\n",
    "    do_split=False,\n",
    "    is_control_population=True,\n",
    ")\n",
    "control_test_df.rename(columns={\"path_y\": \"path\"}, inplace=True)"
   ]
  },
  {
   "cell_type": "code",
   "execution_count": 5,
   "metadata": {},
   "outputs": [],
   "source": [
    "# For convenience.\n",
    "\n",
    "EVAL_DATA_MAP = {\n",
    "    \"old-test\": {\"data\": old_test_df, \"save_suffix\": \"old_test\",},\n",
    "    \"old-test-sensitivity\": {\"data\": sensitivity_old_test_df, \"save_suffix\": \"old_test_sensitivity\",},\n",
    "    \"new-test\": {\"data\": new_test_df, \"save_suffix\": \"new_test\",},\n",
    "    \"new-test-sensitivity\": {\"data\": sensitivity_new_test_df, \"save_suffix\": \"new_test_sensitivity\",},\n",
    "    \"control-test\": {\"data\": control_test_df, \"save_suffix\": \"control_test\",},\n",
    "}\n",
    "\n",
    "TEST_SET_SAVE_SUFFIX_LIST = [param_dict[\"save_suffix\"] for param_dict in EVAL_DATA_MAP.values()]\n",
    "\n",
    "\n",
    "def evaluate_and_save(\n",
    "    classifier: ECGClassifier,\n",
    "    save_dir: str,\n",
    "    average: str = \"weighted\",\n",
    "    prediction_csv_name_pattern: str = \"prediction_{save_suffix}.csv\",\n",
    "    metric_csv_name_pattern: str = \"metrics_{save_suffix}.csv\",\n",
    "):\n",
    "    for test_set_name, param_dict in tqdm(EVAL_DATA_MAP.items()):\n",
    "        dataframe, save_suffix = param_dict[\"data\"], param_dict[\"save_suffix\"]\n",
    "        if \"control\" in test_set_name:\n",
    "            result_dataframe, metric_dataframe = evaluate_from_dataframe(\n",
    "                dataframe,\n",
    "                classifier,\n",
    "                is_control_population=True,\n",
    "                average=average,\n",
    "                )\n",
    "        else:\n",
    "            result_dataframe, metric_dataframe = evaluate_from_dataframe(dataframe, classifier)\n",
    "\n",
    "        result_save_path = op.join(save_dir, prediction_csv_name_pattern.format(save_suffix=save_suffix))\n",
    "        metric_save_path = op.join(save_dir, metric_csv_name_pattern.format(save_suffix=save_suffix))\n",
    "\n",
    "        result_dataframe.to_csv(result_save_path, index=False)\n",
    "        metric_dataframe.to_csv(metric_save_path, index=True)"
   ]
  },
  {
   "attachments": {},
   "cell_type": "markdown",
   "metadata": {},
   "source": [
    "## **Evaluation**"
   ]
  },
  {
   "attachments": {},
   "cell_type": "markdown",
   "metadata": {},
   "source": [
    "### **Baseline**"
   ]
  },
  {
   "cell_type": "code",
   "execution_count": 8,
   "metadata": {},
   "outputs": [],
   "source": [
    "from sklearn.metrics import confusion_matrix, accuracy_score, f1_score, roc_auc_score\n",
    "\n",
    "def get_baseline_metrics(\n",
    "    save_dir: str = None,\n",
    "    label_column_name: str = \"scar_cad\",\n",
    "    metric_csv_name_pattern: str = \"{save_suffix}.csv\",\n",
    "    average: str = \"weighted\",\n",
    "    ):\n",
    "    baseline_metric_dict = {}\n",
    "    for test_set_name, param_dict in EVAL_DATA_MAP.items():\n",
    "        if \"control\" in test_set_name:\n",
    "            continue\n",
    "        dataframe = param_dict[\"data\"]\n",
    "        baseline_predictions = np.zeros(len(dataframe))\n",
    "\n",
    "        # get specificity from confusion matrix\n",
    "        tn, fp, fn, tp = confusion_matrix(dataframe[label_column_name], baseline_predictions).ravel()\n",
    "        specificity = tn / (tn+fp)\n",
    "        fpr = fp / (fp+tn)\n",
    "\n",
    "        baseline_metric_dict[test_set_name] = {\n",
    "            \"Accuracy\": accuracy_score(dataframe[label_column_name], baseline_predictions),\n",
    "            \"Specificity\": specificity,\n",
    "            \"Sensitivity\": None,\n",
    "            \"F1\": f1_score(dataframe[label_column_name], baseline_predictions, average=average),\n",
    "            \"AUC\": None,\n",
    "            \"FPR\": fpr,\n",
    "            \"FNR\": None,\n",
    "        }\n",
    "\n",
    "    if save_dir:\n",
    "        os.makedirs(save_dir, exist_ok=True)\n",
    "        for test_set_name, param_dict in EVAL_DATA_MAP.items():\n",
    "            if \"control\" in test_set_name:\n",
    "                continue\n",
    "            save_suffix = param_dict[\"save_suffix\"]\n",
    "            metric_save_path = op.join(save_dir, metric_csv_name_pattern.format(save_suffix=save_suffix))\n",
    "            pd.DataFrame(baseline_metric_dict[test_set_name], index=[0]).T.to_csv(metric_save_path, index=True)\n",
    "\n",
    "    return baseline_metric_dict"
   ]
  },
  {
   "cell_type": "code",
   "execution_count": 9,
   "metadata": {},
   "outputs": [],
   "source": [
    "scar_baseline_metric_dict = get_baseline_metrics(\n",
    "    save_dir=op.join(\"../resources/statistics/scar_baseline_metrics\"),\n",
    "    label_column_name=\"scar_cad\",\n",
    ")\n",
    "\n",
    "lvef_baseline_metric_dict = get_baseline_metrics(\n",
    "    save_dir=op.join(\"../resources/statistics/lvef_baseline_metrics\"),\n",
    "    label_column_name=\"lvef\",\n",
    ")"
   ]
  },
  {
   "attachments": {},
   "cell_type": "markdown",
   "metadata": {},
   "source": [
    "### **single-task**"
   ]
  },
  {
   "cell_type": "code",
   "execution_count": 10,
   "metadata": {},
   "outputs": [
    {
     "data": {
      "application/vnd.jupyter.widget-view+json": {
       "model_id": "1518644628ae49ddbaa8b6acded492ce",
       "version_major": 2,
       "version_minor": 0
      },
      "text/plain": [
       "  0%|          | 0/5 [00:00<?, ?it/s]"
      ]
     },
     "metadata": {},
     "output_type": "display_data"
    },
    {
     "data": {
      "application/vnd.jupyter.widget-view+json": {
       "model_id": "314f66f718424c1fa5134fd463970a15",
       "version_major": 2,
       "version_minor": 0
      },
      "text/plain": [
       "  0%|          | 0/1045 [00:00<?, ?it/s]"
      ]
     },
     "metadata": {},
     "output_type": "display_data"
    },
    {
     "data": {
      "application/vnd.jupyter.widget-view+json": {
       "model_id": "cd7cda61df25410eb09240ae78bc74c1",
       "version_major": 2,
       "version_minor": 0
      },
      "text/plain": [
       "  0%|          | 0/1045 [00:00<?, ?it/s]"
      ]
     },
     "metadata": {},
     "output_type": "display_data"
    },
    {
     "data": {
      "application/vnd.jupyter.widget-view+json": {
       "model_id": "7b8e4942240b4ff0bdc23b62675efc4a",
       "version_major": 2,
       "version_minor": 0
      },
      "text/plain": [
       "  0%|          | 0/1483 [00:00<?, ?it/s]"
      ]
     },
     "metadata": {},
     "output_type": "display_data"
    },
    {
     "data": {
      "application/vnd.jupyter.widget-view+json": {
       "model_id": "5ac5410720c3471482165f05840cc7f2",
       "version_major": 2,
       "version_minor": 0
      },
      "text/plain": [
       "  0%|          | 0/1483 [00:00<?, ?it/s]"
      ]
     },
     "metadata": {},
     "output_type": "display_data"
    },
    {
     "data": {
      "application/vnd.jupyter.widget-view+json": {
       "model_id": "93ba0ef1bdcd40f78c24f0cd21b1b85a",
       "version_major": 2,
       "version_minor": 0
      },
      "text/plain": [
       "  0%|          | 0/2097 [00:00<?, ?it/s]"
      ]
     },
     "metadata": {},
     "output_type": "display_data"
    },
    {
     "data": {
      "application/vnd.jupyter.widget-view+json": {
       "model_id": "cf96734892cc4583b97f975379d7ca9b",
       "version_major": 2,
       "version_minor": 0
      },
      "text/plain": [
       "  0%|          | 0/5 [00:00<?, ?it/s]"
      ]
     },
     "metadata": {},
     "output_type": "display_data"
    },
    {
     "data": {
      "application/vnd.jupyter.widget-view+json": {
       "model_id": "aa1a82abe977486ab58b556e18f0e64b",
       "version_major": 2,
       "version_minor": 0
      },
      "text/plain": [
       "  0%|          | 0/1045 [00:00<?, ?it/s]"
      ]
     },
     "metadata": {},
     "output_type": "display_data"
    },
    {
     "data": {
      "application/vnd.jupyter.widget-view+json": {
       "model_id": "f6086326ec1c4fed92bb3e9d49f4fc8d",
       "version_major": 2,
       "version_minor": 0
      },
      "text/plain": [
       "  0%|          | 0/1045 [00:00<?, ?it/s]"
      ]
     },
     "metadata": {},
     "output_type": "display_data"
    },
    {
     "data": {
      "application/vnd.jupyter.widget-view+json": {
       "model_id": "93c9cec32604491cbcdabb53f74f3e8b",
       "version_major": 2,
       "version_minor": 0
      },
      "text/plain": [
       "  0%|          | 0/1483 [00:00<?, ?it/s]"
      ]
     },
     "metadata": {},
     "output_type": "display_data"
    },
    {
     "data": {
      "application/vnd.jupyter.widget-view+json": {
       "model_id": "139f1e9ebd57455884bbae35c93faf88",
       "version_major": 2,
       "version_minor": 0
      },
      "text/plain": [
       "  0%|          | 0/1483 [00:00<?, ?it/s]"
      ]
     },
     "metadata": {},
     "output_type": "display_data"
    },
    {
     "data": {
      "application/vnd.jupyter.widget-view+json": {
       "model_id": "3df3a81b3ca64cd4a910d764569901ac",
       "version_major": 2,
       "version_minor": 0
      },
      "text/plain": [
       "  0%|          | 0/2097 [00:00<?, ?it/s]"
      ]
     },
     "metadata": {},
     "output_type": "display_data"
    }
   ],
   "source": [
    "evaluate_and_save(singletask_scar_classifier, save_dir=singletask_scar_model_path)\n",
    "evaluate_and_save(singletask_lvef_classifier, save_dir=singletask_lvef_model_path)"
   ]
  },
  {
   "attachments": {},
   "cell_type": "markdown",
   "metadata": {},
   "source": [
    "### **multi-task**"
   ]
  },
  {
   "cell_type": "code",
   "execution_count": 11,
   "metadata": {},
   "outputs": [
    {
     "data": {
      "application/vnd.jupyter.widget-view+json": {
       "model_id": "e01747b3b39b49a7921767ec830b9ee2",
       "version_major": 2,
       "version_minor": 0
      },
      "text/plain": [
       "  0%|          | 0/5 [00:00<?, ?it/s]"
      ]
     },
     "metadata": {},
     "output_type": "display_data"
    },
    {
     "data": {
      "application/vnd.jupyter.widget-view+json": {
       "model_id": "5f9126fdcae8434ea49ef8d12a544c53",
       "version_major": 2,
       "version_minor": 0
      },
      "text/plain": [
       "  0%|          | 0/1045 [00:00<?, ?it/s]"
      ]
     },
     "metadata": {},
     "output_type": "display_data"
    },
    {
     "data": {
      "application/vnd.jupyter.widget-view+json": {
       "model_id": "359b8611d91441d7864bfd6096f4d895",
       "version_major": 2,
       "version_minor": 0
      },
      "text/plain": [
       "  0%|          | 0/1045 [00:00<?, ?it/s]"
      ]
     },
     "metadata": {},
     "output_type": "display_data"
    },
    {
     "data": {
      "application/vnd.jupyter.widget-view+json": {
       "model_id": "4d67f6743038419e9a568da7c194c57f",
       "version_major": 2,
       "version_minor": 0
      },
      "text/plain": [
       "  0%|          | 0/1483 [00:00<?, ?it/s]"
      ]
     },
     "metadata": {},
     "output_type": "display_data"
    },
    {
     "data": {
      "application/vnd.jupyter.widget-view+json": {
       "model_id": "36b9dd13f3ce49d7877547d12593798d",
       "version_major": 2,
       "version_minor": 0
      },
      "text/plain": [
       "  0%|          | 0/1483 [00:00<?, ?it/s]"
      ]
     },
     "metadata": {},
     "output_type": "display_data"
    },
    {
     "data": {
      "application/vnd.jupyter.widget-view+json": {
       "model_id": "5c426af6a49446889745f8a30e090e85",
       "version_major": 2,
       "version_minor": 0
      },
      "text/plain": [
       "  0%|          | 0/2097 [00:00<?, ?it/s]"
      ]
     },
     "metadata": {},
     "output_type": "display_data"
    }
   ],
   "source": [
    "evaluate_and_save(multitask_classifier, save_dir=multitask_model_path)"
   ]
  },
  {
   "attachments": {},
   "cell_type": "markdown",
   "metadata": {},
   "source": [
    "**multi-task-old-format**"
   ]
  },
  {
   "cell_type": "code",
   "execution_count": 12,
   "metadata": {},
   "outputs": [
    {
     "data": {
      "application/vnd.jupyter.widget-view+json": {
       "model_id": "a3f6690540e04a40a068860166c89986",
       "version_major": 2,
       "version_minor": 0
      },
      "text/plain": [
       "  0%|          | 0/5 [00:00<?, ?it/s]"
      ]
     },
     "metadata": {},
     "output_type": "display_data"
    },
    {
     "data": {
      "application/vnd.jupyter.widget-view+json": {
       "model_id": "0ff7a3a3996949c3bb8ed1e91602b404",
       "version_major": 2,
       "version_minor": 0
      },
      "text/plain": [
       "  0%|          | 0/1045 [00:00<?, ?it/s]"
      ]
     },
     "metadata": {},
     "output_type": "display_data"
    },
    {
     "data": {
      "application/vnd.jupyter.widget-view+json": {
       "model_id": "4a946d62434a4908bb30008acd336ea5",
       "version_major": 2,
       "version_minor": 0
      },
      "text/plain": [
       "  0%|          | 0/1045 [00:00<?, ?it/s]"
      ]
     },
     "metadata": {},
     "output_type": "display_data"
    },
    {
     "data": {
      "application/vnd.jupyter.widget-view+json": {
       "model_id": "fc9678b23ead44269f8f5e462cbbbaf7",
       "version_major": 2,
       "version_minor": 0
      },
      "text/plain": [
       "  0%|          | 0/1483 [00:00<?, ?it/s]"
      ]
     },
     "metadata": {},
     "output_type": "display_data"
    },
    {
     "data": {
      "application/vnd.jupyter.widget-view+json": {
       "model_id": "3562a5d1eb844821b61959dc57989fad",
       "version_major": 2,
       "version_minor": 0
      },
      "text/plain": [
       "  0%|          | 0/1483 [00:00<?, ?it/s]"
      ]
     },
     "metadata": {},
     "output_type": "display_data"
    },
    {
     "data": {
      "application/vnd.jupyter.widget-view+json": {
       "model_id": "61778413628443388e6826c4a8df6ed8",
       "version_major": 2,
       "version_minor": 0
      },
      "text/plain": [
       "  0%|          | 0/2097 [00:00<?, ?it/s]"
      ]
     },
     "metadata": {},
     "output_type": "display_data"
    }
   ],
   "source": [
    "evaluate_and_save(multitask_old_format_classifier, save_dir=multitask_old_format_model_path)"
   ]
  },
  {
   "attachments": {},
   "cell_type": "markdown",
   "metadata": {},
   "source": [
    "**multi-task-transferred**"
   ]
  },
  {
   "cell_type": "code",
   "execution_count": 13,
   "metadata": {},
   "outputs": [
    {
     "data": {
      "application/vnd.jupyter.widget-view+json": {
       "model_id": "8043a0e595a24670bc7b2a0d6cdf0432",
       "version_major": 2,
       "version_minor": 0
      },
      "text/plain": [
       "  0%|          | 0/5 [00:00<?, ?it/s]"
      ]
     },
     "metadata": {},
     "output_type": "display_data"
    },
    {
     "data": {
      "application/vnd.jupyter.widget-view+json": {
       "model_id": "a8c84623d489480c8b5e444d81fde69d",
       "version_major": 2,
       "version_minor": 0
      },
      "text/plain": [
       "  0%|          | 0/1045 [00:00<?, ?it/s]"
      ]
     },
     "metadata": {},
     "output_type": "display_data"
    },
    {
     "data": {
      "application/vnd.jupyter.widget-view+json": {
       "model_id": "48911327a87b41309eff0ebb5f32b1b1",
       "version_major": 2,
       "version_minor": 0
      },
      "text/plain": [
       "  0%|          | 0/1045 [00:00<?, ?it/s]"
      ]
     },
     "metadata": {},
     "output_type": "display_data"
    },
    {
     "data": {
      "application/vnd.jupyter.widget-view+json": {
       "model_id": "1d3ea0657bbe4092b9e51a67a0ffd8e9",
       "version_major": 2,
       "version_minor": 0
      },
      "text/plain": [
       "  0%|          | 0/1483 [00:00<?, ?it/s]"
      ]
     },
     "metadata": {},
     "output_type": "display_data"
    },
    {
     "data": {
      "application/vnd.jupyter.widget-view+json": {
       "model_id": "6ed7444319444cb1a33071eea3001596",
       "version_major": 2,
       "version_minor": 0
      },
      "text/plain": [
       "  0%|          | 0/1483 [00:00<?, ?it/s]"
      ]
     },
     "metadata": {},
     "output_type": "display_data"
    },
    {
     "data": {
      "application/vnd.jupyter.widget-view+json": {
       "model_id": "2ef5cffd43724c7c973f1d26a830325e",
       "version_major": 2,
       "version_minor": 0
      },
      "text/plain": [
       "  0%|          | 0/2097 [00:00<?, ?it/s]"
      ]
     },
     "metadata": {},
     "output_type": "display_data"
    }
   ],
   "source": [
    "evaluate_and_save(multitask_transferred_classifier, save_dir=multitask_transferred_model_path)"
   ]
  },
  {
   "attachments": {},
   "cell_type": "markdown",
   "metadata": {},
   "source": [
    "### **multi-task-clinical**"
   ]
  },
  {
   "cell_type": "code",
   "execution_count": 18,
   "metadata": {},
   "outputs": [
    {
     "data": {
      "application/vnd.jupyter.widget-view+json": {
       "model_id": "e4d8e8ccf4604acf9f8a14919a861adc",
       "version_major": 2,
       "version_minor": 0
      },
      "text/plain": [
       "  0%|          | 0/4 [00:00<?, ?it/s]"
      ]
     },
     "metadata": {},
     "output_type": "display_data"
    },
    {
     "data": {
      "application/vnd.jupyter.widget-view+json": {
       "model_id": "f65deab8c89e4d6f9062eef6153bf673",
       "version_major": 2,
       "version_minor": 0
      },
      "text/plain": [
       "  0%|          | 0/1045 [00:00<?, ?it/s]"
      ]
     },
     "metadata": {},
     "output_type": "display_data"
    },
    {
     "data": {
      "application/vnd.jupyter.widget-view+json": {
       "model_id": "9354c90a9ba1443ca2513743c5697006",
       "version_major": 2,
       "version_minor": 0
      },
      "text/plain": [
       "  0%|          | 0/1045 [00:00<?, ?it/s]"
      ]
     },
     "metadata": {},
     "output_type": "display_data"
    },
    {
     "data": {
      "application/vnd.jupyter.widget-view+json": {
       "model_id": "dc2f6663b67e402f882b46861c4fb1ef",
       "version_major": 2,
       "version_minor": 0
      },
      "text/plain": [
       "  0%|          | 0/1483 [00:00<?, ?it/s]"
      ]
     },
     "metadata": {},
     "output_type": "display_data"
    },
    {
     "data": {
      "application/vnd.jupyter.widget-view+json": {
       "model_id": "880da979bf50414dbda60ba679637411",
       "version_major": 2,
       "version_minor": 0
      },
      "text/plain": [
       "  0%|          | 0/1483 [00:00<?, ?it/s]"
      ]
     },
     "metadata": {},
     "output_type": "display_data"
    }
   ],
   "source": [
    "# Overwrite the EVAL_DATA_MAP to only evaluate the test sets with available clinical data.\n",
    "EVAL_DATA_MAP = {\n",
    "    \"old-test\": {\"data\": old_test_df, \"save_suffix\": \"old_test\",},\n",
    "    \"old-test-sensitivity\": {\"data\": sensitivity_old_test_df, \"save_suffix\": \"old_test_sensitivity\",},\n",
    "    \"new-test\": {\"data\": new_test_df, \"save_suffix\": \"new_test\",},\n",
    "    \"new-test-sensitivity\": {\"data\": sensitivity_new_test_df, \"save_suffix\": \"new_test_sensitivity\",},\n",
    "}\n",
    "\n",
    "evaluate_and_save(multitask_clinical_classifier, save_dir=multitask_clinical_model_path)"
   ]
  },
  {
   "attachments": {},
   "cell_type": "markdown",
   "metadata": {},
   "source": [
    "[scar] Prevalence-specific Evaluation"
   ]
  },
  {
   "cell_type": "code",
   "execution_count": 19,
   "metadata": {},
   "outputs": [],
   "source": [
    "import random\n",
    "\n",
    "def sample(dataframe, num_samples: int = 500, prevalence: float = 7.9):\n",
    "    \"\"\"\n",
    "    Sample a dataframe to a prevalence of 7.9% (the prevalence of scar in the dataset).\n",
    "    \"\"\"\n",
    "    positive_dataframe = dataframe[dataframe.scar_cad == 1].reset_index(drop=True).copy()\n",
    "    negative_dataframe = dataframe[dataframe.scar_cad == 0].reset_index(drop=True).copy()\n",
    "    \n",
    "    num_positive_samples = int(num_samples * prevalence / 100)\n",
    "    num_negative_samples = num_samples - num_positive_samples\n",
    "    \n",
    "    random_state = random.randint(0, 1000)\n",
    "    positive_sample_dataframe = positive_dataframe.sample(n=num_positive_samples, random_state = random_state).reset_index(drop=True)\n",
    "    negative_sample_dataframe = negative_dataframe.sample(n=num_negative_samples, random_state = random_state).reset_index(drop=True)\n",
    "    sampled_dataframe = pd.concat([positive_sample_dataframe, negative_sample_dataframe]).reset_index(drop=True)\n",
    "    return sampled_dataframe"
   ]
  },
  {
   "cell_type": "code",
   "execution_count": 20,
   "metadata": {},
   "outputs": [
    {
     "data": {
      "application/vnd.jupyter.widget-view+json": {
       "model_id": "5f3a9db589c3464c962ee63dd3c2fe14",
       "version_major": 2,
       "version_minor": 0
      },
      "text/plain": [
       "  0%|          | 0/100 [00:00<?, ?it/s]"
      ]
     },
     "metadata": {},
     "output_type": "display_data"
    },
    {
     "data": {
      "application/vnd.jupyter.widget-view+json": {
       "model_id": "085844af7d364a7fb48eeb986eaae8ed",
       "version_major": 2,
       "version_minor": 0
      },
      "text/plain": [
       "  0%|          | 0/500 [00:00<?, ?it/s]"
      ]
     },
     "metadata": {},
     "output_type": "display_data"
    },
    {
     "data": {
      "application/vnd.jupyter.widget-view+json": {
       "model_id": "ffb523bb7cf34c5eadb0317e538420f4",
       "version_major": 2,
       "version_minor": 0
      },
      "text/plain": [
       "  0%|          | 0/500 [00:00<?, ?it/s]"
      ]
     },
     "metadata": {},
     "output_type": "display_data"
    },
    {
     "data": {
      "application/vnd.jupyter.widget-view+json": {
       "model_id": "9540b02316a64af6b336aa8478b6f2c7",
       "version_major": 2,
       "version_minor": 0
      },
      "text/plain": [
       "  0%|          | 0/500 [00:00<?, ?it/s]"
      ]
     },
     "metadata": {},
     "output_type": "display_data"
    },
    {
     "data": {
      "application/vnd.jupyter.widget-view+json": {
       "model_id": "26e3a1ad6ef845038be1beaaa0d8ea3a",
       "version_major": 2,
       "version_minor": 0
      },
      "text/plain": [
       "  0%|          | 0/500 [00:00<?, ?it/s]"
      ]
     },
     "metadata": {},
     "output_type": "display_data"
    },
    {
     "data": {
      "application/vnd.jupyter.widget-view+json": {
       "model_id": "be470d05f8f4475781adec50492aee03",
       "version_major": 2,
       "version_minor": 0
      },
      "text/plain": [
       "  0%|          | 0/500 [00:00<?, ?it/s]"
      ]
     },
     "metadata": {},
     "output_type": "display_data"
    },
    {
     "data": {
      "application/vnd.jupyter.widget-view+json": {
       "model_id": "faf11da4773843d4b3355eb2c9def0c8",
       "version_major": 2,
       "version_minor": 0
      },
      "text/plain": [
       "  0%|          | 0/500 [00:00<?, ?it/s]"
      ]
     },
     "metadata": {},
     "output_type": "display_data"
    },
    {
     "data": {
      "application/vnd.jupyter.widget-view+json": {
       "model_id": "e3d225f002fa4e00871b362db72d5cd0",
       "version_major": 2,
       "version_minor": 0
      },
      "text/plain": [
       "  0%|          | 0/500 [00:00<?, ?it/s]"
      ]
     },
     "metadata": {},
     "output_type": "display_data"
    },
    {
     "data": {
      "application/vnd.jupyter.widget-view+json": {
       "model_id": "3e2a68b41a28478eb876133bd99b30c5",
       "version_major": 2,
       "version_minor": 0
      },
      "text/plain": [
       "  0%|          | 0/500 [00:00<?, ?it/s]"
      ]
     },
     "metadata": {},
     "output_type": "display_data"
    },
    {
     "data": {
      "application/vnd.jupyter.widget-view+json": {
       "model_id": "8099f25e85e24955880295d478f397dd",
       "version_major": 2,
       "version_minor": 0
      },
      "text/plain": [
       "  0%|          | 0/500 [00:00<?, ?it/s]"
      ]
     },
     "metadata": {},
     "output_type": "display_data"
    },
    {
     "data": {
      "application/vnd.jupyter.widget-view+json": {
       "model_id": "0bb8537cf4dd4347af6e1a4e41f2f463",
       "version_major": 2,
       "version_minor": 0
      },
      "text/plain": [
       "  0%|          | 0/500 [00:00<?, ?it/s]"
      ]
     },
     "metadata": {},
     "output_type": "display_data"
    },
    {
     "data": {
      "application/vnd.jupyter.widget-view+json": {
       "model_id": "38c3071cdbb74d2ea98ba51a8f320af3",
       "version_major": 2,
       "version_minor": 0
      },
      "text/plain": [
       "  0%|          | 0/500 [00:00<?, ?it/s]"
      ]
     },
     "metadata": {},
     "output_type": "display_data"
    },
    {
     "data": {
      "application/vnd.jupyter.widget-view+json": {
       "model_id": "87937bd1fcb147658ae6a7ede4c503b8",
       "version_major": 2,
       "version_minor": 0
      },
      "text/plain": [
       "  0%|          | 0/500 [00:00<?, ?it/s]"
      ]
     },
     "metadata": {},
     "output_type": "display_data"
    },
    {
     "data": {
      "application/vnd.jupyter.widget-view+json": {
       "model_id": "d9734b19ea014880985b06f9892c226c",
       "version_major": 2,
       "version_minor": 0
      },
      "text/plain": [
       "  0%|          | 0/500 [00:00<?, ?it/s]"
      ]
     },
     "metadata": {},
     "output_type": "display_data"
    },
    {
     "data": {
      "application/vnd.jupyter.widget-view+json": {
       "model_id": "03c23cdd6a634e68b17e8190bd2bab44",
       "version_major": 2,
       "version_minor": 0
      },
      "text/plain": [
       "  0%|          | 0/500 [00:00<?, ?it/s]"
      ]
     },
     "metadata": {},
     "output_type": "display_data"
    },
    {
     "data": {
      "application/vnd.jupyter.widget-view+json": {
       "model_id": "3696223acf8d43e3972cc1ea5838058b",
       "version_major": 2,
       "version_minor": 0
      },
      "text/plain": [
       "  0%|          | 0/500 [00:00<?, ?it/s]"
      ]
     },
     "metadata": {},
     "output_type": "display_data"
    },
    {
     "data": {
      "application/vnd.jupyter.widget-view+json": {
       "model_id": "4e94df99a85347eea95cf23b6936967f",
       "version_major": 2,
       "version_minor": 0
      },
      "text/plain": [
       "  0%|          | 0/500 [00:00<?, ?it/s]"
      ]
     },
     "metadata": {},
     "output_type": "display_data"
    },
    {
     "data": {
      "application/vnd.jupyter.widget-view+json": {
       "model_id": "12ac2ddf8e0e473f9b660c07e72f066e",
       "version_major": 2,
       "version_minor": 0
      },
      "text/plain": [
       "  0%|          | 0/500 [00:00<?, ?it/s]"
      ]
     },
     "metadata": {},
     "output_type": "display_data"
    },
    {
     "data": {
      "application/vnd.jupyter.widget-view+json": {
       "model_id": "98675a6d79d14baaa0681d9bc70b8ada",
       "version_major": 2,
       "version_minor": 0
      },
      "text/plain": [
       "  0%|          | 0/500 [00:00<?, ?it/s]"
      ]
     },
     "metadata": {},
     "output_type": "display_data"
    },
    {
     "data": {
      "application/vnd.jupyter.widget-view+json": {
       "model_id": "99214d5fb5304458bd957c7ac90aa91c",
       "version_major": 2,
       "version_minor": 0
      },
      "text/plain": [
       "  0%|          | 0/500 [00:00<?, ?it/s]"
      ]
     },
     "metadata": {},
     "output_type": "display_data"
    },
    {
     "data": {
      "application/vnd.jupyter.widget-view+json": {
       "model_id": "151e4835e0f940de9fd6213ce754efbe",
       "version_major": 2,
       "version_minor": 0
      },
      "text/plain": [
       "  0%|          | 0/500 [00:00<?, ?it/s]"
      ]
     },
     "metadata": {},
     "output_type": "display_data"
    },
    {
     "data": {
      "application/vnd.jupyter.widget-view+json": {
       "model_id": "1a3f10cc51f644efad913a5fb7940ada",
       "version_major": 2,
       "version_minor": 0
      },
      "text/plain": [
       "  0%|          | 0/500 [00:00<?, ?it/s]"
      ]
     },
     "metadata": {},
     "output_type": "display_data"
    },
    {
     "data": {
      "application/vnd.jupyter.widget-view+json": {
       "model_id": "342d90fcc9ad4843ac7e800c5308fa8b",
       "version_major": 2,
       "version_minor": 0
      },
      "text/plain": [
       "  0%|          | 0/500 [00:00<?, ?it/s]"
      ]
     },
     "metadata": {},
     "output_type": "display_data"
    },
    {
     "data": {
      "application/vnd.jupyter.widget-view+json": {
       "model_id": "b0e573a0fe9e40e782cdf9828b451364",
       "version_major": 2,
       "version_minor": 0
      },
      "text/plain": [
       "  0%|          | 0/500 [00:00<?, ?it/s]"
      ]
     },
     "metadata": {},
     "output_type": "display_data"
    },
    {
     "data": {
      "application/vnd.jupyter.widget-view+json": {
       "model_id": "1bc46f359c124be78b0583cc6eff6b08",
       "version_major": 2,
       "version_minor": 0
      },
      "text/plain": [
       "  0%|          | 0/500 [00:00<?, ?it/s]"
      ]
     },
     "metadata": {},
     "output_type": "display_data"
    },
    {
     "data": {
      "application/vnd.jupyter.widget-view+json": {
       "model_id": "f7ffbceccb7d43e48e35f5b719a0e2c1",
       "version_major": 2,
       "version_minor": 0
      },
      "text/plain": [
       "  0%|          | 0/500 [00:00<?, ?it/s]"
      ]
     },
     "metadata": {},
     "output_type": "display_data"
    },
    {
     "data": {
      "application/vnd.jupyter.widget-view+json": {
       "model_id": "661f64b1c7b2472bab949adf07ebd371",
       "version_major": 2,
       "version_minor": 0
      },
      "text/plain": [
       "  0%|          | 0/500 [00:00<?, ?it/s]"
      ]
     },
     "metadata": {},
     "output_type": "display_data"
    },
    {
     "data": {
      "application/vnd.jupyter.widget-view+json": {
       "model_id": "dd80b34cb58b40659ea7cde2f82c6950",
       "version_major": 2,
       "version_minor": 0
      },
      "text/plain": [
       "  0%|          | 0/500 [00:00<?, ?it/s]"
      ]
     },
     "metadata": {},
     "output_type": "display_data"
    },
    {
     "data": {
      "application/vnd.jupyter.widget-view+json": {
       "model_id": "b247b45fe563486895f79b386636cfb0",
       "version_major": 2,
       "version_minor": 0
      },
      "text/plain": [
       "  0%|          | 0/500 [00:00<?, ?it/s]"
      ]
     },
     "metadata": {},
     "output_type": "display_data"
    },
    {
     "data": {
      "application/vnd.jupyter.widget-view+json": {
       "model_id": "9a2e01c1ee534d1b8b9ad31181594d5b",
       "version_major": 2,
       "version_minor": 0
      },
      "text/plain": [
       "  0%|          | 0/500 [00:00<?, ?it/s]"
      ]
     },
     "metadata": {},
     "output_type": "display_data"
    },
    {
     "data": {
      "application/vnd.jupyter.widget-view+json": {
       "model_id": "853672edd7a246708766a010e9ab1645",
       "version_major": 2,
       "version_minor": 0
      },
      "text/plain": [
       "  0%|          | 0/500 [00:00<?, ?it/s]"
      ]
     },
     "metadata": {},
     "output_type": "display_data"
    },
    {
     "data": {
      "application/vnd.jupyter.widget-view+json": {
       "model_id": "bca87524f7904dda9f66c6909437ace4",
       "version_major": 2,
       "version_minor": 0
      },
      "text/plain": [
       "  0%|          | 0/500 [00:00<?, ?it/s]"
      ]
     },
     "metadata": {},
     "output_type": "display_data"
    },
    {
     "data": {
      "application/vnd.jupyter.widget-view+json": {
       "model_id": "0d06b04c78de40949188fc3481c12d3d",
       "version_major": 2,
       "version_minor": 0
      },
      "text/plain": [
       "  0%|          | 0/500 [00:00<?, ?it/s]"
      ]
     },
     "metadata": {},
     "output_type": "display_data"
    },
    {
     "data": {
      "application/vnd.jupyter.widget-view+json": {
       "model_id": "135c632f9f4a46cb9fc87fa56e9b8b7e",
       "version_major": 2,
       "version_minor": 0
      },
      "text/plain": [
       "  0%|          | 0/500 [00:00<?, ?it/s]"
      ]
     },
     "metadata": {},
     "output_type": "display_data"
    },
    {
     "data": {
      "application/vnd.jupyter.widget-view+json": {
       "model_id": "55e63560369f4fd2803faca06b22ab32",
       "version_major": 2,
       "version_minor": 0
      },
      "text/plain": [
       "  0%|          | 0/500 [00:00<?, ?it/s]"
      ]
     },
     "metadata": {},
     "output_type": "display_data"
    },
    {
     "data": {
      "application/vnd.jupyter.widget-view+json": {
       "model_id": "e2923dbedfa74783ba9dd646d226ec1f",
       "version_major": 2,
       "version_minor": 0
      },
      "text/plain": [
       "  0%|          | 0/500 [00:00<?, ?it/s]"
      ]
     },
     "metadata": {},
     "output_type": "display_data"
    },
    {
     "data": {
      "application/vnd.jupyter.widget-view+json": {
       "model_id": "32034b6d74384d77a5d16a16fbcf4a7f",
       "version_major": 2,
       "version_minor": 0
      },
      "text/plain": [
       "  0%|          | 0/500 [00:00<?, ?it/s]"
      ]
     },
     "metadata": {},
     "output_type": "display_data"
    },
    {
     "data": {
      "application/vnd.jupyter.widget-view+json": {
       "model_id": "30e5a556d4114615875e3333fec0860d",
       "version_major": 2,
       "version_minor": 0
      },
      "text/plain": [
       "  0%|          | 0/500 [00:00<?, ?it/s]"
      ]
     },
     "metadata": {},
     "output_type": "display_data"
    },
    {
     "data": {
      "application/vnd.jupyter.widget-view+json": {
       "model_id": "68557d1a9caf43d6ad147945e981eb83",
       "version_major": 2,
       "version_minor": 0
      },
      "text/plain": [
       "  0%|          | 0/500 [00:00<?, ?it/s]"
      ]
     },
     "metadata": {},
     "output_type": "display_data"
    },
    {
     "data": {
      "application/vnd.jupyter.widget-view+json": {
       "model_id": "7726dd9600fd442bb4199435733c4924",
       "version_major": 2,
       "version_minor": 0
      },
      "text/plain": [
       "  0%|          | 0/500 [00:00<?, ?it/s]"
      ]
     },
     "metadata": {},
     "output_type": "display_data"
    },
    {
     "data": {
      "application/vnd.jupyter.widget-view+json": {
       "model_id": "afef0f35f7c94e37b544763435e44266",
       "version_major": 2,
       "version_minor": 0
      },
      "text/plain": [
       "  0%|          | 0/500 [00:00<?, ?it/s]"
      ]
     },
     "metadata": {},
     "output_type": "display_data"
    },
    {
     "data": {
      "application/vnd.jupyter.widget-view+json": {
       "model_id": "26af8e52cff24590a7026545df27d481",
       "version_major": 2,
       "version_minor": 0
      },
      "text/plain": [
       "  0%|          | 0/500 [00:00<?, ?it/s]"
      ]
     },
     "metadata": {},
     "output_type": "display_data"
    },
    {
     "data": {
      "application/vnd.jupyter.widget-view+json": {
       "model_id": "45bbc32478444e11b38950dcc28d9cb7",
       "version_major": 2,
       "version_minor": 0
      },
      "text/plain": [
       "  0%|          | 0/500 [00:00<?, ?it/s]"
      ]
     },
     "metadata": {},
     "output_type": "display_data"
    },
    {
     "data": {
      "application/vnd.jupyter.widget-view+json": {
       "model_id": "6bc18b9e6ee54fa283de64918e9c9413",
       "version_major": 2,
       "version_minor": 0
      },
      "text/plain": [
       "  0%|          | 0/500 [00:00<?, ?it/s]"
      ]
     },
     "metadata": {},
     "output_type": "display_data"
    },
    {
     "data": {
      "application/vnd.jupyter.widget-view+json": {
       "model_id": "bb1d069d6f374bb4a1f8f117fb64475b",
       "version_major": 2,
       "version_minor": 0
      },
      "text/plain": [
       "  0%|          | 0/500 [00:00<?, ?it/s]"
      ]
     },
     "metadata": {},
     "output_type": "display_data"
    },
    {
     "data": {
      "application/vnd.jupyter.widget-view+json": {
       "model_id": "6ca492d73e7a4ecabc853ee4ed478338",
       "version_major": 2,
       "version_minor": 0
      },
      "text/plain": [
       "  0%|          | 0/500 [00:00<?, ?it/s]"
      ]
     },
     "metadata": {},
     "output_type": "display_data"
    },
    {
     "data": {
      "application/vnd.jupyter.widget-view+json": {
       "model_id": "775ff19a93a64e888c30c27605083714",
       "version_major": 2,
       "version_minor": 0
      },
      "text/plain": [
       "  0%|          | 0/500 [00:00<?, ?it/s]"
      ]
     },
     "metadata": {},
     "output_type": "display_data"
    },
    {
     "data": {
      "application/vnd.jupyter.widget-view+json": {
       "model_id": "97530c15241c47fbb40f2639220a8f23",
       "version_major": 2,
       "version_minor": 0
      },
      "text/plain": [
       "  0%|          | 0/500 [00:00<?, ?it/s]"
      ]
     },
     "metadata": {},
     "output_type": "display_data"
    },
    {
     "data": {
      "application/vnd.jupyter.widget-view+json": {
       "model_id": "5174cfa0d5c34ddc849a974abefadeef",
       "version_major": 2,
       "version_minor": 0
      },
      "text/plain": [
       "  0%|          | 0/500 [00:00<?, ?it/s]"
      ]
     },
     "metadata": {},
     "output_type": "display_data"
    },
    {
     "data": {
      "application/vnd.jupyter.widget-view+json": {
       "model_id": "db86499b66774d9a81d41872eaec2053",
       "version_major": 2,
       "version_minor": 0
      },
      "text/plain": [
       "  0%|          | 0/500 [00:00<?, ?it/s]"
      ]
     },
     "metadata": {},
     "output_type": "display_data"
    },
    {
     "data": {
      "application/vnd.jupyter.widget-view+json": {
       "model_id": "faac1a53555e49b4b1ac8ed46ce27525",
       "version_major": 2,
       "version_minor": 0
      },
      "text/plain": [
       "  0%|          | 0/500 [00:00<?, ?it/s]"
      ]
     },
     "metadata": {},
     "output_type": "display_data"
    },
    {
     "data": {
      "application/vnd.jupyter.widget-view+json": {
       "model_id": "3b6c8f2116934558bd2452cf3873a615",
       "version_major": 2,
       "version_minor": 0
      },
      "text/plain": [
       "  0%|          | 0/500 [00:00<?, ?it/s]"
      ]
     },
     "metadata": {},
     "output_type": "display_data"
    },
    {
     "data": {
      "application/vnd.jupyter.widget-view+json": {
       "model_id": "dc2e20328c8c4246a935a55f391abede",
       "version_major": 2,
       "version_minor": 0
      },
      "text/plain": [
       "  0%|          | 0/500 [00:00<?, ?it/s]"
      ]
     },
     "metadata": {},
     "output_type": "display_data"
    },
    {
     "data": {
      "application/vnd.jupyter.widget-view+json": {
       "model_id": "0f0d3e3a23f149b0999f8484489aed3f",
       "version_major": 2,
       "version_minor": 0
      },
      "text/plain": [
       "  0%|          | 0/500 [00:00<?, ?it/s]"
      ]
     },
     "metadata": {},
     "output_type": "display_data"
    },
    {
     "data": {
      "application/vnd.jupyter.widget-view+json": {
       "model_id": "533ede3ba36e4333b352f1165736e594",
       "version_major": 2,
       "version_minor": 0
      },
      "text/plain": [
       "  0%|          | 0/500 [00:00<?, ?it/s]"
      ]
     },
     "metadata": {},
     "output_type": "display_data"
    },
    {
     "data": {
      "application/vnd.jupyter.widget-view+json": {
       "model_id": "41eb6a924f7445deaa501e81cbb39f6e",
       "version_major": 2,
       "version_minor": 0
      },
      "text/plain": [
       "  0%|          | 0/500 [00:00<?, ?it/s]"
      ]
     },
     "metadata": {},
     "output_type": "display_data"
    },
    {
     "data": {
      "application/vnd.jupyter.widget-view+json": {
       "model_id": "6f47ac474c724ae2912c2a23bf50f4aa",
       "version_major": 2,
       "version_minor": 0
      },
      "text/plain": [
       "  0%|          | 0/500 [00:00<?, ?it/s]"
      ]
     },
     "metadata": {},
     "output_type": "display_data"
    },
    {
     "data": {
      "application/vnd.jupyter.widget-view+json": {
       "model_id": "d35b76e79efa4e0bbd952b269812ae66",
       "version_major": 2,
       "version_minor": 0
      },
      "text/plain": [
       "  0%|          | 0/500 [00:00<?, ?it/s]"
      ]
     },
     "metadata": {},
     "output_type": "display_data"
    },
    {
     "data": {
      "application/vnd.jupyter.widget-view+json": {
       "model_id": "3dfe85a032f2454f84d8d359168d5a82",
       "version_major": 2,
       "version_minor": 0
      },
      "text/plain": [
       "  0%|          | 0/500 [00:00<?, ?it/s]"
      ]
     },
     "metadata": {},
     "output_type": "display_data"
    },
    {
     "data": {
      "application/vnd.jupyter.widget-view+json": {
       "model_id": "02af2b127ad5486e970c2ba40363e0b2",
       "version_major": 2,
       "version_minor": 0
      },
      "text/plain": [
       "  0%|          | 0/500 [00:00<?, ?it/s]"
      ]
     },
     "metadata": {},
     "output_type": "display_data"
    },
    {
     "data": {
      "application/vnd.jupyter.widget-view+json": {
       "model_id": "3ace2bac64be4a63821265d08b6ffb94",
       "version_major": 2,
       "version_minor": 0
      },
      "text/plain": [
       "  0%|          | 0/500 [00:00<?, ?it/s]"
      ]
     },
     "metadata": {},
     "output_type": "display_data"
    },
    {
     "data": {
      "application/vnd.jupyter.widget-view+json": {
       "model_id": "9d496a5d78d044d5b38b8b69645fb778",
       "version_major": 2,
       "version_minor": 0
      },
      "text/plain": [
       "  0%|          | 0/500 [00:00<?, ?it/s]"
      ]
     },
     "metadata": {},
     "output_type": "display_data"
    },
    {
     "data": {
      "application/vnd.jupyter.widget-view+json": {
       "model_id": "bcac47c4a8f446528c7039f013d4ca73",
       "version_major": 2,
       "version_minor": 0
      },
      "text/plain": [
       "  0%|          | 0/500 [00:00<?, ?it/s]"
      ]
     },
     "metadata": {},
     "output_type": "display_data"
    },
    {
     "data": {
      "application/vnd.jupyter.widget-view+json": {
       "model_id": "555b155f7eaf484a84d896c04b1b244c",
       "version_major": 2,
       "version_minor": 0
      },
      "text/plain": [
       "  0%|          | 0/500 [00:00<?, ?it/s]"
      ]
     },
     "metadata": {},
     "output_type": "display_data"
    },
    {
     "data": {
      "application/vnd.jupyter.widget-view+json": {
       "model_id": "6c86101f5b014227b7fdb5cb70965ebd",
       "version_major": 2,
       "version_minor": 0
      },
      "text/plain": [
       "  0%|          | 0/500 [00:00<?, ?it/s]"
      ]
     },
     "metadata": {},
     "output_type": "display_data"
    },
    {
     "data": {
      "application/vnd.jupyter.widget-view+json": {
       "model_id": "f11696eac64b42d2aa9e57c7912e94ba",
       "version_major": 2,
       "version_minor": 0
      },
      "text/plain": [
       "  0%|          | 0/500 [00:00<?, ?it/s]"
      ]
     },
     "metadata": {},
     "output_type": "display_data"
    },
    {
     "data": {
      "application/vnd.jupyter.widget-view+json": {
       "model_id": "d92d0a08554c4160a5a67c2629bb1e9f",
       "version_major": 2,
       "version_minor": 0
      },
      "text/plain": [
       "  0%|          | 0/500 [00:00<?, ?it/s]"
      ]
     },
     "metadata": {},
     "output_type": "display_data"
    },
    {
     "data": {
      "application/vnd.jupyter.widget-view+json": {
       "model_id": "37454326d51e40768a36d9f22f8f98a6",
       "version_major": 2,
       "version_minor": 0
      },
      "text/plain": [
       "  0%|          | 0/500 [00:00<?, ?it/s]"
      ]
     },
     "metadata": {},
     "output_type": "display_data"
    },
    {
     "data": {
      "application/vnd.jupyter.widget-view+json": {
       "model_id": "e922fc4b88fe4fadb98ee1ecc9766928",
       "version_major": 2,
       "version_minor": 0
      },
      "text/plain": [
       "  0%|          | 0/500 [00:00<?, ?it/s]"
      ]
     },
     "metadata": {},
     "output_type": "display_data"
    },
    {
     "data": {
      "application/vnd.jupyter.widget-view+json": {
       "model_id": "6c1c6753fa5e4933ae4bceff18996b0e",
       "version_major": 2,
       "version_minor": 0
      },
      "text/plain": [
       "  0%|          | 0/500 [00:00<?, ?it/s]"
      ]
     },
     "metadata": {},
     "output_type": "display_data"
    },
    {
     "data": {
      "application/vnd.jupyter.widget-view+json": {
       "model_id": "b864c27edab04690aef107af7792d3a6",
       "version_major": 2,
       "version_minor": 0
      },
      "text/plain": [
       "  0%|          | 0/500 [00:00<?, ?it/s]"
      ]
     },
     "metadata": {},
     "output_type": "display_data"
    },
    {
     "data": {
      "application/vnd.jupyter.widget-view+json": {
       "model_id": "e13905146d0f48c782fd70b9fe9ae373",
       "version_major": 2,
       "version_minor": 0
      },
      "text/plain": [
       "  0%|          | 0/500 [00:00<?, ?it/s]"
      ]
     },
     "metadata": {},
     "output_type": "display_data"
    },
    {
     "data": {
      "application/vnd.jupyter.widget-view+json": {
       "model_id": "bbb4347d3979425a86caf7f0b32f9018",
       "version_major": 2,
       "version_minor": 0
      },
      "text/plain": [
       "  0%|          | 0/500 [00:00<?, ?it/s]"
      ]
     },
     "metadata": {},
     "output_type": "display_data"
    },
    {
     "data": {
      "application/vnd.jupyter.widget-view+json": {
       "model_id": "7317aca265734e97994f4e4fa297b85c",
       "version_major": 2,
       "version_minor": 0
      },
      "text/plain": [
       "  0%|          | 0/500 [00:00<?, ?it/s]"
      ]
     },
     "metadata": {},
     "output_type": "display_data"
    },
    {
     "data": {
      "application/vnd.jupyter.widget-view+json": {
       "model_id": "c7dde8d8c67841bb97ee3de5e0b1ec39",
       "version_major": 2,
       "version_minor": 0
      },
      "text/plain": [
       "  0%|          | 0/500 [00:00<?, ?it/s]"
      ]
     },
     "metadata": {},
     "output_type": "display_data"
    },
    {
     "data": {
      "application/vnd.jupyter.widget-view+json": {
       "model_id": "a42019f966b24b3c86937ccfa03e8bac",
       "version_major": 2,
       "version_minor": 0
      },
      "text/plain": [
       "  0%|          | 0/500 [00:00<?, ?it/s]"
      ]
     },
     "metadata": {},
     "output_type": "display_data"
    },
    {
     "data": {
      "application/vnd.jupyter.widget-view+json": {
       "model_id": "808e2ae6d2af4898b73db781b56f1775",
       "version_major": 2,
       "version_minor": 0
      },
      "text/plain": [
       "  0%|          | 0/500 [00:00<?, ?it/s]"
      ]
     },
     "metadata": {},
     "output_type": "display_data"
    },
    {
     "data": {
      "application/vnd.jupyter.widget-view+json": {
       "model_id": "daf4641f7fb14b5693b80a6ac005d8a5",
       "version_major": 2,
       "version_minor": 0
      },
      "text/plain": [
       "  0%|          | 0/500 [00:00<?, ?it/s]"
      ]
     },
     "metadata": {},
     "output_type": "display_data"
    },
    {
     "data": {
      "application/vnd.jupyter.widget-view+json": {
       "model_id": "686edd39598043b89ce12c52fc514ee6",
       "version_major": 2,
       "version_minor": 0
      },
      "text/plain": [
       "  0%|          | 0/500 [00:00<?, ?it/s]"
      ]
     },
     "metadata": {},
     "output_type": "display_data"
    },
    {
     "data": {
      "application/vnd.jupyter.widget-view+json": {
       "model_id": "ebbea11ec7e24d32a993628516a49b70",
       "version_major": 2,
       "version_minor": 0
      },
      "text/plain": [
       "  0%|          | 0/500 [00:00<?, ?it/s]"
      ]
     },
     "metadata": {},
     "output_type": "display_data"
    },
    {
     "data": {
      "application/vnd.jupyter.widget-view+json": {
       "model_id": "afd10ef45cb741bdbb0719b9e6d99c8a",
       "version_major": 2,
       "version_minor": 0
      },
      "text/plain": [
       "  0%|          | 0/500 [00:00<?, ?it/s]"
      ]
     },
     "metadata": {},
     "output_type": "display_data"
    },
    {
     "data": {
      "application/vnd.jupyter.widget-view+json": {
       "model_id": "4d40b17d530848ba9fd1895b54ba0067",
       "version_major": 2,
       "version_minor": 0
      },
      "text/plain": [
       "  0%|          | 0/500 [00:00<?, ?it/s]"
      ]
     },
     "metadata": {},
     "output_type": "display_data"
    },
    {
     "data": {
      "application/vnd.jupyter.widget-view+json": {
       "model_id": "b7260c8cc8234611bda1a55db06f1bd1",
       "version_major": 2,
       "version_minor": 0
      },
      "text/plain": [
       "  0%|          | 0/500 [00:00<?, ?it/s]"
      ]
     },
     "metadata": {},
     "output_type": "display_data"
    },
    {
     "data": {
      "application/vnd.jupyter.widget-view+json": {
       "model_id": "4fd2e6f58ede489c81cae023a812bd72",
       "version_major": 2,
       "version_minor": 0
      },
      "text/plain": [
       "  0%|          | 0/500 [00:00<?, ?it/s]"
      ]
     },
     "metadata": {},
     "output_type": "display_data"
    },
    {
     "data": {
      "application/vnd.jupyter.widget-view+json": {
       "model_id": "c5b536d5eb7346f798158a281d4598f8",
       "version_major": 2,
       "version_minor": 0
      },
      "text/plain": [
       "  0%|          | 0/500 [00:00<?, ?it/s]"
      ]
     },
     "metadata": {},
     "output_type": "display_data"
    },
    {
     "data": {
      "application/vnd.jupyter.widget-view+json": {
       "model_id": "5aa2ae3fbebf4607b9d393904a0f7e4d",
       "version_major": 2,
       "version_minor": 0
      },
      "text/plain": [
       "  0%|          | 0/500 [00:00<?, ?it/s]"
      ]
     },
     "metadata": {},
     "output_type": "display_data"
    },
    {
     "data": {
      "application/vnd.jupyter.widget-view+json": {
       "model_id": "944c75ac7fc34bf3bf35554b318b5024",
       "version_major": 2,
       "version_minor": 0
      },
      "text/plain": [
       "  0%|          | 0/500 [00:00<?, ?it/s]"
      ]
     },
     "metadata": {},
     "output_type": "display_data"
    },
    {
     "data": {
      "application/vnd.jupyter.widget-view+json": {
       "model_id": "bfeaaf4a996e43d58191934f1af364db",
       "version_major": 2,
       "version_minor": 0
      },
      "text/plain": [
       "  0%|          | 0/500 [00:00<?, ?it/s]"
      ]
     },
     "metadata": {},
     "output_type": "display_data"
    },
    {
     "data": {
      "application/vnd.jupyter.widget-view+json": {
       "model_id": "f93107c58eef4d31aa0a8ef5e6c32358",
       "version_major": 2,
       "version_minor": 0
      },
      "text/plain": [
       "  0%|          | 0/500 [00:00<?, ?it/s]"
      ]
     },
     "metadata": {},
     "output_type": "display_data"
    },
    {
     "data": {
      "application/vnd.jupyter.widget-view+json": {
       "model_id": "d60cf1aab9d64877bfa4ae24ed339382",
       "version_major": 2,
       "version_minor": 0
      },
      "text/plain": [
       "  0%|          | 0/500 [00:00<?, ?it/s]"
      ]
     },
     "metadata": {},
     "output_type": "display_data"
    },
    {
     "data": {
      "application/vnd.jupyter.widget-view+json": {
       "model_id": "cdf960a2f42240159ee921fa25eea0c2",
       "version_major": 2,
       "version_minor": 0
      },
      "text/plain": [
       "  0%|          | 0/500 [00:00<?, ?it/s]"
      ]
     },
     "metadata": {},
     "output_type": "display_data"
    },
    {
     "data": {
      "application/vnd.jupyter.widget-view+json": {
       "model_id": "9a50b54f6a5e4a79bc1194c13486cade",
       "version_major": 2,
       "version_minor": 0
      },
      "text/plain": [
       "  0%|          | 0/500 [00:00<?, ?it/s]"
      ]
     },
     "metadata": {},
     "output_type": "display_data"
    },
    {
     "data": {
      "application/vnd.jupyter.widget-view+json": {
       "model_id": "a0d61f6431094dfab63ba2fbb8568722",
       "version_major": 2,
       "version_minor": 0
      },
      "text/plain": [
       "  0%|          | 0/500 [00:00<?, ?it/s]"
      ]
     },
     "metadata": {},
     "output_type": "display_data"
    },
    {
     "data": {
      "application/vnd.jupyter.widget-view+json": {
       "model_id": "0bd5b67c5e05436b865ec1717a288177",
       "version_major": 2,
       "version_minor": 0
      },
      "text/plain": [
       "  0%|          | 0/500 [00:00<?, ?it/s]"
      ]
     },
     "metadata": {},
     "output_type": "display_data"
    },
    {
     "data": {
      "application/vnd.jupyter.widget-view+json": {
       "model_id": "e11060db483a4ca2b63dcc794cfb3127",
       "version_major": 2,
       "version_minor": 0
      },
      "text/plain": [
       "  0%|          | 0/500 [00:00<?, ?it/s]"
      ]
     },
     "metadata": {},
     "output_type": "display_data"
    },
    {
     "data": {
      "application/vnd.jupyter.widget-view+json": {
       "model_id": "89ecb59262a143069f03f6b822f743f8",
       "version_major": 2,
       "version_minor": 0
      },
      "text/plain": [
       "  0%|          | 0/500 [00:00<?, ?it/s]"
      ]
     },
     "metadata": {},
     "output_type": "display_data"
    },
    {
     "data": {
      "application/vnd.jupyter.widget-view+json": {
       "model_id": "7bf9b7aa11054f528c04bb53b163fac2",
       "version_major": 2,
       "version_minor": 0
      },
      "text/plain": [
       "  0%|          | 0/500 [00:00<?, ?it/s]"
      ]
     },
     "metadata": {},
     "output_type": "display_data"
    },
    {
     "data": {
      "application/vnd.jupyter.widget-view+json": {
       "model_id": "5733976085b844fa80c23d260825a6e0",
       "version_major": 2,
       "version_minor": 0
      },
      "text/plain": [
       "  0%|          | 0/500 [00:00<?, ?it/s]"
      ]
     },
     "metadata": {},
     "output_type": "display_data"
    },
    {
     "data": {
      "application/vnd.jupyter.widget-view+json": {
       "model_id": "eedd11d5298e4a78b841ea74c0327ca4",
       "version_major": 2,
       "version_minor": 0
      },
      "text/plain": [
       "  0%|          | 0/500 [00:00<?, ?it/s]"
      ]
     },
     "metadata": {},
     "output_type": "display_data"
    },
    {
     "data": {
      "application/vnd.jupyter.widget-view+json": {
       "model_id": "42d3e3edc1924666ace85e5805a22dbc",
       "version_major": 2,
       "version_minor": 0
      },
      "text/plain": [
       "  0%|          | 0/500 [00:00<?, ?it/s]"
      ]
     },
     "metadata": {},
     "output_type": "display_data"
    },
    {
     "data": {
      "application/vnd.jupyter.widget-view+json": {
       "model_id": "35e43a919d7e4ab4918c15cfcfd1b77b",
       "version_major": 2,
       "version_minor": 0
      },
      "text/plain": [
       "  0%|          | 0/500 [00:00<?, ?it/s]"
      ]
     },
     "metadata": {},
     "output_type": "display_data"
    }
   ],
   "source": [
    "scar_auc_list = []\n",
    "for i in tqdm(range(100)):\n",
    "    sampled_clinical_test_df = sample(new_test_df, num_samples = 500)\n",
    "    _, metric_df = evaluate_from_dataframe(sampled_clinical_test_df, multitask_clinical_classifier)\n",
    "    scar_auc_list.append(metric_df[\"scar\"][-3])\n",
    "\n",
    "pd.DataFrame(\n",
    "    {\n",
    "        \"mean\": [np.mean(scar_auc_list)],\n",
    "        \"std\": [np.std(scar_auc_list)],\n",
    "        }\n",
    ")\\\n",
    "    .round(4)\\\n",
    "    .to_csv(op.join(multitask_clinical_model_path, \"prevalence_specific_auc.csv\"), index=False)\n"
   ]
  },
  {
   "attachments": {},
   "cell_type": "markdown",
   "metadata": {},
   "source": [
    "### **XGB**"
   ]
  },
  {
   "cell_type": "code",
   "execution_count": 32,
   "metadata": {},
   "outputs": [],
   "source": [
    "# A function to get XGBoost predictions.\n",
    "from mtecg.evaluation import calculate_metrics_per_task\n",
    "import mtecg.constants as constants\n",
    "\n",
    "def evaluate_xgb_from_dataframe(\n",
    "    dataframe: pd.DataFrame,\n",
    "    model,\n",
    "    feature_column_names: List[str],\n",
    "    label_column_name: str = \"scar_cad\",\n",
    "    is_control_population=False,\n",
    "    task=\"scar\",\n",
    "    average=\"weighted\",\n",
    "    ):\n",
    "    x = dataframe[feature_column_names]\n",
    "    predicted_probability_array = model.predict_proba(x)[:, 1]\n",
    "    prediction_array = model.predict(x)\n",
    "\n",
    "    prediction_dataframe = pd.DataFrame(\n",
    "        {\n",
    "            f\"{task}_label\": dataframe[label_column_name].values,\n",
    "            f\"{task}_prediction\": prediction_array,\n",
    "            f\"{task}_probability\": predicted_probability_array,\n",
    "        }\n",
    "    )\n",
    "    metrics_dataframe = calculate_metrics_per_task(\n",
    "        prediction_dataframe,\n",
    "        task,\n",
    "        is_control_population=is_control_population,\n",
    "        average=average,\n",
    "        )\n",
    "    return prediction_dataframe, metrics_dataframe\n",
    "\n",
    "def evaluate_xgb_and_save(\n",
    "    xgb_model,\n",
    "    save_dir: str,\n",
    "    task: str = \"scar\",\n",
    "    average: str = \"weighted\",\n",
    "    feature_column_names: List[str] = constants.numerical_feature_column_names + constants.categorical_feature_column_names,\n",
    "    label_column_name: str = \"scar_cad\",\n",
    "    prediction_csv_name_pattern: str = \"prediction_{save_suffix}.csv\",\n",
    "    metric_csv_name_pattern: str = \"metrics_{save_suffix}.csv\",\n",
    "):\n",
    "    for test_set_name, param_dict in tqdm(EVAL_DATA_MAP.items()):\n",
    "        dataframe, save_suffix = param_dict[\"data\"], param_dict[\"save_suffix\"]\n",
    "        if \"control\" in test_set_name:\n",
    "            result_dataframe, metric_dataframe = evaluate_xgb_from_dataframe(\n",
    "                dataframe,\n",
    "                xgb_model,\n",
    "                task=task,\n",
    "                feature_column_names=feature_column_names,\n",
    "                is_control_population=True,\n",
    "                average=average,\n",
    "                )\n",
    "        else:\n",
    "            result_dataframe, metric_dataframe = evaluate_xgb_from_dataframe(\n",
    "                dataframe,\n",
    "                xgb_model,\n",
    "                task=task,\n",
    "                feature_column_names=feature_column_names,\n",
    "                average=average,\n",
    "                )\n",
    "\n",
    "        result_save_path = op.join(save_dir, prediction_csv_name_pattern.format(save_suffix=save_suffix))\n",
    "        metric_save_path = op.join(save_dir, metric_csv_name_pattern.format(save_suffix=save_suffix))\n",
    "\n",
    "        result_dataframe.to_csv(result_save_path, index=False)\n",
    "        metric_dataframe.to_csv(metric_save_path, index=True)"
   ]
  },
  {
   "cell_type": "code",
   "execution_count": 36,
   "metadata": {},
   "outputs": [],
   "source": [
    "import joblib\n",
    "\n",
    "xgb_model_dir = \"../trained_models/xgboost-clinical\"\n",
    "scar_xgb_model_dir = op.join(xgb_model_dir, \"scar_model\")\n",
    "lvef_xgb_model_dir = op.join(xgb_model_dir, \"lvef_model\")\n",
    "\n",
    "scar_xgb_classifier = joblib.load(op.join(scar_xgb_model_dir, \"model.joblib\"))\n",
    "lvef_xgb_classifier = joblib.load(op.join(lvef_xgb_model_dir, \"model.joblib\"))"
   ]
  },
  {
   "cell_type": "code",
   "execution_count": 37,
   "metadata": {},
   "outputs": [
    {
     "data": {
      "application/vnd.jupyter.widget-view+json": {
       "model_id": "c76ef3b5e3ce404183efbf1ff50cf80e",
       "version_major": 2,
       "version_minor": 0
      },
      "text/plain": [
       "  0%|          | 0/4 [00:00<?, ?it/s]"
      ]
     },
     "metadata": {},
     "output_type": "display_data"
    },
    {
     "data": {
      "application/vnd.jupyter.widget-view+json": {
       "model_id": "ed8f782729e542b88505cb23f95eb59c",
       "version_major": 2,
       "version_minor": 0
      },
      "text/plain": [
       "  0%|          | 0/4 [00:00<?, ?it/s]"
      ]
     },
     "metadata": {},
     "output_type": "display_data"
    }
   ],
   "source": [
    "evaluate_xgb_and_save(\n",
    "    scar_xgb_classifier,\n",
    "    task=\"scar\",\n",
    "    label_column_name=\"scar_cad\",\n",
    "    save_dir=scar_xgb_model_dir,\n",
    "    )\n",
    "\n",
    "evaluate_xgb_and_save(\n",
    "    lvef_xgb_classifier,\n",
    "    task=\"lvef\",\n",
    "    label_column_name=\"lvef_cad\",\n",
    "    save_dir=lvef_xgb_model_dir,\n",
    ")"
   ]
  },
  {
   "attachments": {},
   "cell_type": "markdown",
   "metadata": {},
   "source": [
    "## **Save Prediction Probabilities on Each Test Set as a single file**"
   ]
  },
  {
   "cell_type": "code",
   "execution_count": 6,
   "metadata": {},
   "outputs": [],
   "source": [
    "import pandas as pd\n",
    "from typing import Dict, List\n",
    "\n",
    "# A function to read the predictions from the save csv file in each model folder.\n",
    "# The probability columns of each task are then concatenated into a single dataframe.\n",
    "# The probability columns are in the format f\"{task}_probability\".\n",
    "\n",
    "def get_probabilities(\n",
    "    model_name_to_dir_map: Dict[str, str],\n",
    "    test_set_suffix_list: List[str],\n",
    "    probability_column_name_pattern: str = \"{task}_probability\",\n",
    "    prediction_csv_name_pattern: str = \"prediction_{test_set_suffix}.csv\",\n",
    "    task: str = \"scar\",\n",
    ") -> List[pd.DataFrame]:\n",
    "    \"\"\"\n",
    "    Get the probabilities of the given task from the predictions of the models.\n",
    "    \"\"\"\n",
    "    probability_column_name = probability_column_name_pattern.format(task=task)\n",
    "\n",
    "    test_set_to_probability_dataframe_dict = {}\n",
    "    for test_set_suffix in test_set_suffix_list:\n",
    "        if \"control\" in test_set_suffix:\n",
    "            continue\n",
    "        model_name_to_probabilities_dict = {}\n",
    "        for model_name, model_dir in model_name_to_dir_map.items():\n",
    "            filename = prediction_csv_name_pattern.format(test_set_suffix=test_set_suffix)\n",
    "            prediction_path = op.join(model_dir, filename)\n",
    "            prediction_dataframe = pd.read_csv(prediction_path)\n",
    "            if \"true_label\" not in model_name_to_probabilities_dict.keys():\n",
    "                model_name_to_probabilities_dict[\"true_label\"] = prediction_dataframe[f\"{task}_label\"]\n",
    "            model_name_to_probabilities_dict[model_name] = prediction_dataframe[probability_column_name]\n",
    "        probability_dataframe = pd.DataFrame(model_name_to_probabilities_dict)\n",
    "        test_set_to_probability_dataframe_dict[test_set_suffix] = probability_dataframe\n",
    "    return test_set_to_probability_dataframe_dict"
   ]
  },
  {
   "cell_type": "code",
   "execution_count": 7,
   "metadata": {},
   "outputs": [],
   "source": [
    "multitask_old_format_model_path = \"../trained_models/multi-task-old-format/resnet34d_384_LVEF50\"\n",
    "multitask_transferred_model_path = \"../trained_models/multi-task-transferred/resnet34d_384_LVEF50\"\n",
    "singletask_scar_model_path = \"../trained_models/single-task-scar/resnet34d_384_LVEF50\"\n",
    "singletask_lvef_model_path = \"../trained_models/single-task-lvef/resnet34d_384_LVEF50\"\n",
    "multitask_model_path = \"../trained_models/multi-task/resnet34d_384_LVEF50\"\n",
    "multitask_clinical_model_path = \"../trained_models/multi-task-clinical/resnet34d_384_LVEF50_birnn_dim512\"\n",
    "xgboost_scar_model_path = \"../trained_models/xgboost-clinical/scar_model\"\n",
    "xgboost_lvef_model_path = \"../trained_models/xgboost-clinical/lvef_model\"\n",
    "\n",
    "probability_save_dir = \"../resources/prediction_probabilities\"\n",
    "os.makedirs(probability_save_dir, exist_ok=True)"
   ]
  },
  {
   "cell_type": "code",
   "execution_count": 9,
   "metadata": {},
   "outputs": [],
   "source": [
    "tasks = [\"scar\", \"lvef\"]\n",
    "for task in tasks:\n",
    "    model_name_to_dir_map = {\n",
    "        \"multi-task-old-format\": multitask_old_format_model_path,\n",
    "        \"multi-task-transferred\": multitask_transferred_model_path,\n",
    "        \"single-task\": singletask_scar_model_path if task == \"scar\" else singletask_lvef_model_path,\n",
    "        \"multi-task\": multitask_model_path,\n",
    "        \"multi-task-clinical\": multitask_clinical_model_path,\n",
    "        \"xgboost-clinical\": xgboost_scar_model_path if task == \"scar\" else xgboost_lvef_model_path,\n",
    "    }\n",
    "\n",
    "    test_set_to_probability_dataframe_dict = get_probabilities(\n",
    "        model_name_to_dir_map=model_name_to_dir_map,\n",
    "        test_set_suffix_list=TEST_SET_SAVE_SUFFIX_LIST,\n",
    "        task=task,\n",
    "    )\n",
    "\n",
    "    for test_set_suffix, probability_dataframe in test_set_to_probability_dataframe_dict.items():\n",
    "        probability_save_path = op.join(probability_save_dir, f\"{task}_probabilities_{test_set_suffix}.csv\")\n",
    "        probability_dataframe.to_csv(probability_save_path, index=False)"
   ]
  }
 ],
 "metadata": {
  "kernelspec": {
   "display_name": "ecg",
   "language": "python",
   "name": "python3"
  },
  "language_info": {
   "codemirror_mode": {
    "name": "ipython",
    "version": 3
   },
   "file_extension": ".py",
   "mimetype": "text/x-python",
   "name": "python",
   "nbconvert_exporter": "python",
   "pygments_lexer": "ipython3",
   "version": "3.8.13"
  },
  "orig_nbformat": 4,
  "vscode": {
   "interpreter": {
    "hash": "109b74d06ceef90c267188b655f808679842e5df9d924ed4ca45afc3047e2ff5"
   }
  }
 },
 "nbformat": 4,
 "nbformat_minor": 2
}
